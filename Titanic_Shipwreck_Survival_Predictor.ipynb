{
 "cells": [
  {
   "cell_type": "code",
   "execution_count": 1,
   "id": "1178aeab",
   "metadata": {
    "_cell_guid": "b1076dfc-b9ad-4769-8c92-a6c4dae69d19",
    "_uuid": "8f2839f25d086af736a60e9eeb907d3b93b6e0e5",
    "execution": {
     "iopub.execute_input": "2021-10-08T01:38:25.581218Z",
     "iopub.status.busy": "2021-10-08T01:38:25.580163Z",
     "iopub.status.idle": "2021-10-08T01:38:25.593790Z",
     "shell.execute_reply": "2021-10-08T01:38:25.593063Z",
     "shell.execute_reply.started": "2021-10-08T01:35:30.033046Z"
    },
    "papermill": {
     "duration": 0.04737,
     "end_time": "2021-10-08T01:38:25.594033",
     "exception": false,
     "start_time": "2021-10-08T01:38:25.546663",
     "status": "completed"
    },
    "tags": []
   },
   "outputs": [
    {
     "name": "stdout",
     "output_type": "stream",
     "text": [
      "/kaggle/input/titanic/train.csv\n",
      "/kaggle/input/titanic/test.csv\n",
      "/kaggle/input/titanic/gender_submission.csv\n"
     ]
    }
   ],
   "source": [
    "# This Python 3 environment comes with many helpful analytics libraries installed\n",
    "# It is defined by the kaggle/python Docker image: https://github.com/kaggle/docker-python\n",
    "# For example, here's several helpful packages to load\n",
    "\n",
    "import numpy as np # linear algebra\n",
    "import pandas as pd # data processing, CSV file I/O (e.g. pd.read_csv)\n",
    "\n",
    "# Input data files are available in the read-only \"../input/\" directory\n",
    "# For example, running this (by clicking run or pressing Shift+Enter) will list all files under the input directory\n",
    "\n",
    "import os\n",
    "for dirname, _, filenames in os.walk('/kaggle/input'):\n",
    "    for filename in filenames:\n",
    "        print(os.path.join(dirname, filename))\n",
    "\n",
    "# You can write up to 20GB to the current directory (/kaggle/working/) that gets preserved as output when you create a version using \"Save & Run All\" \n",
    "# You can also write temporary files to /kaggle/temp/, but they won't be saved outside of the current session"
   ]
  },
  {
   "cell_type": "code",
   "execution_count": 2,
   "id": "13d3501f",
   "metadata": {
    "execution": {
     "iopub.execute_input": "2021-10-08T01:38:25.658979Z",
     "iopub.status.busy": "2021-10-08T01:38:25.658125Z",
     "iopub.status.idle": "2021-10-08T01:38:25.697660Z",
     "shell.execute_reply": "2021-10-08T01:38:25.698129Z",
     "shell.execute_reply.started": "2021-10-08T01:35:30.048858Z"
    },
    "papermill": {
     "duration": 0.072619,
     "end_time": "2021-10-08T01:38:25.698305",
     "exception": false,
     "start_time": "2021-10-08T01:38:25.625686",
     "status": "completed"
    },
    "tags": []
   },
   "outputs": [
    {
     "data": {
      "text/html": [
       "<div>\n",
       "<style scoped>\n",
       "    .dataframe tbody tr th:only-of-type {\n",
       "        vertical-align: middle;\n",
       "    }\n",
       "\n",
       "    .dataframe tbody tr th {\n",
       "        vertical-align: top;\n",
       "    }\n",
       "\n",
       "    .dataframe thead th {\n",
       "        text-align: right;\n",
       "    }\n",
       "</style>\n",
       "<table border=\"1\" class=\"dataframe\">\n",
       "  <thead>\n",
       "    <tr style=\"text-align: right;\">\n",
       "      <th></th>\n",
       "      <th>PassengerId</th>\n",
       "      <th>Survived</th>\n",
       "      <th>Pclass</th>\n",
       "      <th>Name</th>\n",
       "      <th>Sex</th>\n",
       "      <th>Age</th>\n",
       "      <th>SibSp</th>\n",
       "      <th>Parch</th>\n",
       "      <th>Ticket</th>\n",
       "      <th>Fare</th>\n",
       "      <th>Cabin</th>\n",
       "      <th>Embarked</th>\n",
       "    </tr>\n",
       "  </thead>\n",
       "  <tbody>\n",
       "    <tr>\n",
       "      <th>0</th>\n",
       "      <td>1</td>\n",
       "      <td>0</td>\n",
       "      <td>3</td>\n",
       "      <td>Braund, Mr. Owen Harris</td>\n",
       "      <td>male</td>\n",
       "      <td>22.0</td>\n",
       "      <td>1</td>\n",
       "      <td>0</td>\n",
       "      <td>A/5 21171</td>\n",
       "      <td>7.2500</td>\n",
       "      <td>NaN</td>\n",
       "      <td>S</td>\n",
       "    </tr>\n",
       "    <tr>\n",
       "      <th>1</th>\n",
       "      <td>2</td>\n",
       "      <td>1</td>\n",
       "      <td>1</td>\n",
       "      <td>Cumings, Mrs. John Bradley (Florence Briggs Th...</td>\n",
       "      <td>female</td>\n",
       "      <td>38.0</td>\n",
       "      <td>1</td>\n",
       "      <td>0</td>\n",
       "      <td>PC 17599</td>\n",
       "      <td>71.2833</td>\n",
       "      <td>C85</td>\n",
       "      <td>C</td>\n",
       "    </tr>\n",
       "    <tr>\n",
       "      <th>2</th>\n",
       "      <td>3</td>\n",
       "      <td>1</td>\n",
       "      <td>3</td>\n",
       "      <td>Heikkinen, Miss. Laina</td>\n",
       "      <td>female</td>\n",
       "      <td>26.0</td>\n",
       "      <td>0</td>\n",
       "      <td>0</td>\n",
       "      <td>STON/O2. 3101282</td>\n",
       "      <td>7.9250</td>\n",
       "      <td>NaN</td>\n",
       "      <td>S</td>\n",
       "    </tr>\n",
       "    <tr>\n",
       "      <th>3</th>\n",
       "      <td>4</td>\n",
       "      <td>1</td>\n",
       "      <td>1</td>\n",
       "      <td>Futrelle, Mrs. Jacques Heath (Lily May Peel)</td>\n",
       "      <td>female</td>\n",
       "      <td>35.0</td>\n",
       "      <td>1</td>\n",
       "      <td>0</td>\n",
       "      <td>113803</td>\n",
       "      <td>53.1000</td>\n",
       "      <td>C123</td>\n",
       "      <td>S</td>\n",
       "    </tr>\n",
       "    <tr>\n",
       "      <th>4</th>\n",
       "      <td>5</td>\n",
       "      <td>0</td>\n",
       "      <td>3</td>\n",
       "      <td>Allen, Mr. William Henry</td>\n",
       "      <td>male</td>\n",
       "      <td>35.0</td>\n",
       "      <td>0</td>\n",
       "      <td>0</td>\n",
       "      <td>373450</td>\n",
       "      <td>8.0500</td>\n",
       "      <td>NaN</td>\n",
       "      <td>S</td>\n",
       "    </tr>\n",
       "  </tbody>\n",
       "</table>\n",
       "</div>"
      ],
      "text/plain": [
       "   PassengerId  Survived  Pclass  \\\n",
       "0            1         0       3   \n",
       "1            2         1       1   \n",
       "2            3         1       3   \n",
       "3            4         1       1   \n",
       "4            5         0       3   \n",
       "\n",
       "                                                Name     Sex   Age  SibSp  \\\n",
       "0                            Braund, Mr. Owen Harris    male  22.0      1   \n",
       "1  Cumings, Mrs. John Bradley (Florence Briggs Th...  female  38.0      1   \n",
       "2                             Heikkinen, Miss. Laina  female  26.0      0   \n",
       "3       Futrelle, Mrs. Jacques Heath (Lily May Peel)  female  35.0      1   \n",
       "4                           Allen, Mr. William Henry    male  35.0      0   \n",
       "\n",
       "   Parch            Ticket     Fare Cabin Embarked  \n",
       "0      0         A/5 21171   7.2500   NaN        S  \n",
       "1      0          PC 17599  71.2833   C85        C  \n",
       "2      0  STON/O2. 3101282   7.9250   NaN        S  \n",
       "3      0            113803  53.1000  C123        S  \n",
       "4      0            373450   8.0500   NaN        S  "
      ]
     },
     "execution_count": 2,
     "metadata": {},
     "output_type": "execute_result"
    }
   ],
   "source": [
    "train_data = pd.read_csv(\"/kaggle/input/titanic/train.csv\")\n",
    "train_data.head()"
   ]
  },
  {
   "cell_type": "code",
   "execution_count": 3,
   "id": "eb3d13d0",
   "metadata": {
    "execution": {
     "iopub.execute_input": "2021-10-08T01:38:25.760264Z",
     "iopub.status.busy": "2021-10-08T01:38:25.759678Z",
     "iopub.status.idle": "2021-10-08T01:38:25.780168Z",
     "shell.execute_reply": "2021-10-08T01:38:25.780594Z",
     "shell.execute_reply.started": "2021-10-08T01:35:30.074750Z"
    },
    "papermill": {
     "duration": 0.053226,
     "end_time": "2021-10-08T01:38:25.780772",
     "exception": false,
     "start_time": "2021-10-08T01:38:25.727546",
     "status": "completed"
    },
    "tags": []
   },
   "outputs": [
    {
     "data": {
      "text/html": [
       "<div>\n",
       "<style scoped>\n",
       "    .dataframe tbody tr th:only-of-type {\n",
       "        vertical-align: middle;\n",
       "    }\n",
       "\n",
       "    .dataframe tbody tr th {\n",
       "        vertical-align: top;\n",
       "    }\n",
       "\n",
       "    .dataframe thead th {\n",
       "        text-align: right;\n",
       "    }\n",
       "</style>\n",
       "<table border=\"1\" class=\"dataframe\">\n",
       "  <thead>\n",
       "    <tr style=\"text-align: right;\">\n",
       "      <th></th>\n",
       "      <th>PassengerId</th>\n",
       "      <th>Pclass</th>\n",
       "      <th>Name</th>\n",
       "      <th>Sex</th>\n",
       "      <th>Age</th>\n",
       "      <th>SibSp</th>\n",
       "      <th>Parch</th>\n",
       "      <th>Ticket</th>\n",
       "      <th>Fare</th>\n",
       "      <th>Cabin</th>\n",
       "      <th>Embarked</th>\n",
       "    </tr>\n",
       "  </thead>\n",
       "  <tbody>\n",
       "    <tr>\n",
       "      <th>0</th>\n",
       "      <td>892</td>\n",
       "      <td>3</td>\n",
       "      <td>Kelly, Mr. James</td>\n",
       "      <td>male</td>\n",
       "      <td>34.5</td>\n",
       "      <td>0</td>\n",
       "      <td>0</td>\n",
       "      <td>330911</td>\n",
       "      <td>7.8292</td>\n",
       "      <td>NaN</td>\n",
       "      <td>Q</td>\n",
       "    </tr>\n",
       "    <tr>\n",
       "      <th>1</th>\n",
       "      <td>893</td>\n",
       "      <td>3</td>\n",
       "      <td>Wilkes, Mrs. James (Ellen Needs)</td>\n",
       "      <td>female</td>\n",
       "      <td>47.0</td>\n",
       "      <td>1</td>\n",
       "      <td>0</td>\n",
       "      <td>363272</td>\n",
       "      <td>7.0000</td>\n",
       "      <td>NaN</td>\n",
       "      <td>S</td>\n",
       "    </tr>\n",
       "    <tr>\n",
       "      <th>2</th>\n",
       "      <td>894</td>\n",
       "      <td>2</td>\n",
       "      <td>Myles, Mr. Thomas Francis</td>\n",
       "      <td>male</td>\n",
       "      <td>62.0</td>\n",
       "      <td>0</td>\n",
       "      <td>0</td>\n",
       "      <td>240276</td>\n",
       "      <td>9.6875</td>\n",
       "      <td>NaN</td>\n",
       "      <td>Q</td>\n",
       "    </tr>\n",
       "    <tr>\n",
       "      <th>3</th>\n",
       "      <td>895</td>\n",
       "      <td>3</td>\n",
       "      <td>Wirz, Mr. Albert</td>\n",
       "      <td>male</td>\n",
       "      <td>27.0</td>\n",
       "      <td>0</td>\n",
       "      <td>0</td>\n",
       "      <td>315154</td>\n",
       "      <td>8.6625</td>\n",
       "      <td>NaN</td>\n",
       "      <td>S</td>\n",
       "    </tr>\n",
       "    <tr>\n",
       "      <th>4</th>\n",
       "      <td>896</td>\n",
       "      <td>3</td>\n",
       "      <td>Hirvonen, Mrs. Alexander (Helga E Lindqvist)</td>\n",
       "      <td>female</td>\n",
       "      <td>22.0</td>\n",
       "      <td>1</td>\n",
       "      <td>1</td>\n",
       "      <td>3101298</td>\n",
       "      <td>12.2875</td>\n",
       "      <td>NaN</td>\n",
       "      <td>S</td>\n",
       "    </tr>\n",
       "  </tbody>\n",
       "</table>\n",
       "</div>"
      ],
      "text/plain": [
       "   PassengerId  Pclass                                          Name     Sex  \\\n",
       "0          892       3                              Kelly, Mr. James    male   \n",
       "1          893       3              Wilkes, Mrs. James (Ellen Needs)  female   \n",
       "2          894       2                     Myles, Mr. Thomas Francis    male   \n",
       "3          895       3                              Wirz, Mr. Albert    male   \n",
       "4          896       3  Hirvonen, Mrs. Alexander (Helga E Lindqvist)  female   \n",
       "\n",
       "    Age  SibSp  Parch   Ticket     Fare Cabin Embarked  \n",
       "0  34.5      0      0   330911   7.8292   NaN        Q  \n",
       "1  47.0      1      0   363272   7.0000   NaN        S  \n",
       "2  62.0      0      0   240276   9.6875   NaN        Q  \n",
       "3  27.0      0      0   315154   8.6625   NaN        S  \n",
       "4  22.0      1      1  3101298  12.2875   NaN        S  "
      ]
     },
     "execution_count": 3,
     "metadata": {},
     "output_type": "execute_result"
    }
   ],
   "source": [
    "test_data = pd.read_csv(\"/kaggle/input/titanic/test.csv\")\n",
    "test_data.head()"
   ]
  },
  {
   "cell_type": "code",
   "execution_count": 4,
   "id": "fbc781bc",
   "metadata": {
    "execution": {
     "iopub.execute_input": "2021-10-08T01:38:25.843606Z",
     "iopub.status.busy": "2021-10-08T01:38:25.842953Z",
     "iopub.status.idle": "2021-10-08T01:38:25.854490Z",
     "shell.execute_reply": "2021-10-08T01:38:25.855194Z",
     "shell.execute_reply.started": "2021-10-08T01:35:30.099258Z"
    },
    "papermill": {
     "duration": 0.045557,
     "end_time": "2021-10-08T01:38:25.855469",
     "exception": false,
     "start_time": "2021-10-08T01:38:25.809912",
     "status": "completed"
    },
    "tags": []
   },
   "outputs": [
    {
     "name": "stdout",
     "output_type": "stream",
     "text": [
      "Percentage of women who survived :  0.7420382165605095\n"
     ]
    }
   ],
   "source": [
    "women = train_data.loc[train_data.Sex == 'female'][\"Survived\"]\n",
    "rate_women = sum(women)/len(women)\n",
    "\n",
    "print(\"Percentage of women who survived : \",rate_women)"
   ]
  },
  {
   "cell_type": "code",
   "execution_count": 5,
   "id": "03b9dbf6",
   "metadata": {
    "execution": {
     "iopub.execute_input": "2021-10-08T01:38:25.921889Z",
     "iopub.status.busy": "2021-10-08T01:38:25.921031Z",
     "iopub.status.idle": "2021-10-08T01:38:25.924460Z",
     "shell.execute_reply": "2021-10-08T01:38:25.925111Z",
     "shell.execute_reply.started": "2021-10-08T01:35:30.110666Z"
    },
    "papermill": {
     "duration": 0.039499,
     "end_time": "2021-10-08T01:38:25.925363",
     "exception": false,
     "start_time": "2021-10-08T01:38:25.885864",
     "status": "completed"
    },
    "tags": []
   },
   "outputs": [
    {
     "name": "stdout",
     "output_type": "stream",
     "text": [
      "Percentage of men who survived :  0.18890814558058924\n"
     ]
    }
   ],
   "source": [
    "men = train_data.loc[train_data.Sex == 'male'][\"Survived\"]\n",
    "rate_men = sum(men)/len(men)\n",
    "\n",
    "print(\"Percentage of men who survived : \",rate_men)"
   ]
  },
  {
   "cell_type": "code",
   "execution_count": 6,
   "id": "dc95a0c3",
   "metadata": {
    "execution": {
     "iopub.execute_input": "2021-10-08T01:38:25.992145Z",
     "iopub.status.busy": "2021-10-08T01:38:25.991178Z",
     "iopub.status.idle": "2021-10-08T01:38:26.037934Z",
     "shell.execute_reply": "2021-10-08T01:38:26.040184Z",
     "shell.execute_reply.started": "2021-10-08T01:35:30.123061Z"
    },
    "papermill": {
     "duration": 0.084428,
     "end_time": "2021-10-08T01:38:26.040387",
     "exception": false,
     "start_time": "2021-10-08T01:38:25.955959",
     "status": "completed"
    },
    "tags": []
   },
   "outputs": [
    {
     "data": {
      "text/html": [
       "<div>\n",
       "<style scoped>\n",
       "    .dataframe tbody tr th:only-of-type {\n",
       "        vertical-align: middle;\n",
       "    }\n",
       "\n",
       "    .dataframe tbody tr th {\n",
       "        vertical-align: top;\n",
       "    }\n",
       "\n",
       "    .dataframe thead th {\n",
       "        text-align: right;\n",
       "    }\n",
       "</style>\n",
       "<table border=\"1\" class=\"dataframe\">\n",
       "  <thead>\n",
       "    <tr style=\"text-align: right;\">\n",
       "      <th></th>\n",
       "      <th>PassengerId</th>\n",
       "      <th>Survived</th>\n",
       "      <th>Pclass</th>\n",
       "      <th>Age</th>\n",
       "      <th>SibSp</th>\n",
       "      <th>Parch</th>\n",
       "      <th>Fare</th>\n",
       "    </tr>\n",
       "  </thead>\n",
       "  <tbody>\n",
       "    <tr>\n",
       "      <th>count</th>\n",
       "      <td>891.000000</td>\n",
       "      <td>891.000000</td>\n",
       "      <td>891.000000</td>\n",
       "      <td>714.000000</td>\n",
       "      <td>891.000000</td>\n",
       "      <td>891.000000</td>\n",
       "      <td>891.000000</td>\n",
       "    </tr>\n",
       "    <tr>\n",
       "      <th>mean</th>\n",
       "      <td>446.000000</td>\n",
       "      <td>0.383838</td>\n",
       "      <td>2.308642</td>\n",
       "      <td>29.699118</td>\n",
       "      <td>0.523008</td>\n",
       "      <td>0.381594</td>\n",
       "      <td>32.204208</td>\n",
       "    </tr>\n",
       "    <tr>\n",
       "      <th>std</th>\n",
       "      <td>257.353842</td>\n",
       "      <td>0.486592</td>\n",
       "      <td>0.836071</td>\n",
       "      <td>14.526497</td>\n",
       "      <td>1.102743</td>\n",
       "      <td>0.806057</td>\n",
       "      <td>49.693429</td>\n",
       "    </tr>\n",
       "    <tr>\n",
       "      <th>min</th>\n",
       "      <td>1.000000</td>\n",
       "      <td>0.000000</td>\n",
       "      <td>1.000000</td>\n",
       "      <td>0.420000</td>\n",
       "      <td>0.000000</td>\n",
       "      <td>0.000000</td>\n",
       "      <td>0.000000</td>\n",
       "    </tr>\n",
       "    <tr>\n",
       "      <th>25%</th>\n",
       "      <td>223.500000</td>\n",
       "      <td>0.000000</td>\n",
       "      <td>2.000000</td>\n",
       "      <td>20.125000</td>\n",
       "      <td>0.000000</td>\n",
       "      <td>0.000000</td>\n",
       "      <td>7.910400</td>\n",
       "    </tr>\n",
       "    <tr>\n",
       "      <th>50%</th>\n",
       "      <td>446.000000</td>\n",
       "      <td>0.000000</td>\n",
       "      <td>3.000000</td>\n",
       "      <td>28.000000</td>\n",
       "      <td>0.000000</td>\n",
       "      <td>0.000000</td>\n",
       "      <td>14.454200</td>\n",
       "    </tr>\n",
       "    <tr>\n",
       "      <th>75%</th>\n",
       "      <td>668.500000</td>\n",
       "      <td>1.000000</td>\n",
       "      <td>3.000000</td>\n",
       "      <td>38.000000</td>\n",
       "      <td>1.000000</td>\n",
       "      <td>0.000000</td>\n",
       "      <td>31.000000</td>\n",
       "    </tr>\n",
       "    <tr>\n",
       "      <th>max</th>\n",
       "      <td>891.000000</td>\n",
       "      <td>1.000000</td>\n",
       "      <td>3.000000</td>\n",
       "      <td>80.000000</td>\n",
       "      <td>8.000000</td>\n",
       "      <td>6.000000</td>\n",
       "      <td>512.329200</td>\n",
       "    </tr>\n",
       "  </tbody>\n",
       "</table>\n",
       "</div>"
      ],
      "text/plain": [
       "       PassengerId    Survived      Pclass         Age       SibSp  \\\n",
       "count   891.000000  891.000000  891.000000  714.000000  891.000000   \n",
       "mean    446.000000    0.383838    2.308642   29.699118    0.523008   \n",
       "std     257.353842    0.486592    0.836071   14.526497    1.102743   \n",
       "min       1.000000    0.000000    1.000000    0.420000    0.000000   \n",
       "25%     223.500000    0.000000    2.000000   20.125000    0.000000   \n",
       "50%     446.000000    0.000000    3.000000   28.000000    0.000000   \n",
       "75%     668.500000    1.000000    3.000000   38.000000    1.000000   \n",
       "max     891.000000    1.000000    3.000000   80.000000    8.000000   \n",
       "\n",
       "            Parch        Fare  \n",
       "count  891.000000  891.000000  \n",
       "mean     0.381594   32.204208  \n",
       "std      0.806057   49.693429  \n",
       "min      0.000000    0.000000  \n",
       "25%      0.000000    7.910400  \n",
       "50%      0.000000   14.454200  \n",
       "75%      0.000000   31.000000  \n",
       "max      6.000000  512.329200  "
      ]
     },
     "execution_count": 6,
     "metadata": {},
     "output_type": "execute_result"
    }
   ],
   "source": [
    "train_data = pd.read_csv(\"/kaggle/input/titanic/train.csv\")\n",
    "train_data.describe()"
   ]
  },
  {
   "cell_type": "code",
   "execution_count": 7,
   "id": "ebc1d338",
   "metadata": {
    "execution": {
     "iopub.execute_input": "2021-10-08T01:38:26.123280Z",
     "iopub.status.busy": "2021-10-08T01:38:26.118104Z",
     "iopub.status.idle": "2021-10-08T01:38:26.136885Z",
     "shell.execute_reply": "2021-10-08T01:38:26.137277Z",
     "shell.execute_reply.started": "2021-10-08T01:35:30.162831Z"
    },
    "papermill": {
     "duration": 0.0594,
     "end_time": "2021-10-08T01:38:26.137474",
     "exception": false,
     "start_time": "2021-10-08T01:38:26.078074",
     "status": "completed"
    },
    "tags": []
   },
   "outputs": [
    {
     "data": {
      "text/html": [
       "<div>\n",
       "<style scoped>\n",
       "    .dataframe tbody tr th:only-of-type {\n",
       "        vertical-align: middle;\n",
       "    }\n",
       "\n",
       "    .dataframe tbody tr th {\n",
       "        vertical-align: top;\n",
       "    }\n",
       "\n",
       "    .dataframe thead th {\n",
       "        text-align: right;\n",
       "    }\n",
       "</style>\n",
       "<table border=\"1\" class=\"dataframe\">\n",
       "  <thead>\n",
       "    <tr style=\"text-align: right;\">\n",
       "      <th></th>\n",
       "      <th>PassengerId</th>\n",
       "      <th>Pclass</th>\n",
       "      <th>Age</th>\n",
       "      <th>SibSp</th>\n",
       "      <th>Parch</th>\n",
       "      <th>Fare</th>\n",
       "    </tr>\n",
       "  </thead>\n",
       "  <tbody>\n",
       "    <tr>\n",
       "      <th>count</th>\n",
       "      <td>418.000000</td>\n",
       "      <td>418.000000</td>\n",
       "      <td>332.000000</td>\n",
       "      <td>418.000000</td>\n",
       "      <td>418.000000</td>\n",
       "      <td>417.000000</td>\n",
       "    </tr>\n",
       "    <tr>\n",
       "      <th>mean</th>\n",
       "      <td>1100.500000</td>\n",
       "      <td>2.265550</td>\n",
       "      <td>30.272590</td>\n",
       "      <td>0.447368</td>\n",
       "      <td>0.392344</td>\n",
       "      <td>35.627188</td>\n",
       "    </tr>\n",
       "    <tr>\n",
       "      <th>std</th>\n",
       "      <td>120.810458</td>\n",
       "      <td>0.841838</td>\n",
       "      <td>14.181209</td>\n",
       "      <td>0.896760</td>\n",
       "      <td>0.981429</td>\n",
       "      <td>55.907576</td>\n",
       "    </tr>\n",
       "    <tr>\n",
       "      <th>min</th>\n",
       "      <td>892.000000</td>\n",
       "      <td>1.000000</td>\n",
       "      <td>0.170000</td>\n",
       "      <td>0.000000</td>\n",
       "      <td>0.000000</td>\n",
       "      <td>0.000000</td>\n",
       "    </tr>\n",
       "    <tr>\n",
       "      <th>25%</th>\n",
       "      <td>996.250000</td>\n",
       "      <td>1.000000</td>\n",
       "      <td>21.000000</td>\n",
       "      <td>0.000000</td>\n",
       "      <td>0.000000</td>\n",
       "      <td>7.895800</td>\n",
       "    </tr>\n",
       "    <tr>\n",
       "      <th>50%</th>\n",
       "      <td>1100.500000</td>\n",
       "      <td>3.000000</td>\n",
       "      <td>27.000000</td>\n",
       "      <td>0.000000</td>\n",
       "      <td>0.000000</td>\n",
       "      <td>14.454200</td>\n",
       "    </tr>\n",
       "    <tr>\n",
       "      <th>75%</th>\n",
       "      <td>1204.750000</td>\n",
       "      <td>3.000000</td>\n",
       "      <td>39.000000</td>\n",
       "      <td>1.000000</td>\n",
       "      <td>0.000000</td>\n",
       "      <td>31.500000</td>\n",
       "    </tr>\n",
       "    <tr>\n",
       "      <th>max</th>\n",
       "      <td>1309.000000</td>\n",
       "      <td>3.000000</td>\n",
       "      <td>76.000000</td>\n",
       "      <td>8.000000</td>\n",
       "      <td>9.000000</td>\n",
       "      <td>512.329200</td>\n",
       "    </tr>\n",
       "  </tbody>\n",
       "</table>\n",
       "</div>"
      ],
      "text/plain": [
       "       PassengerId      Pclass         Age       SibSp       Parch        Fare\n",
       "count   418.000000  418.000000  332.000000  418.000000  418.000000  417.000000\n",
       "mean   1100.500000    2.265550   30.272590    0.447368    0.392344   35.627188\n",
       "std     120.810458    0.841838   14.181209    0.896760    0.981429   55.907576\n",
       "min     892.000000    1.000000    0.170000    0.000000    0.000000    0.000000\n",
       "25%     996.250000    1.000000   21.000000    0.000000    0.000000    7.895800\n",
       "50%    1100.500000    3.000000   27.000000    0.000000    0.000000   14.454200\n",
       "75%    1204.750000    3.000000   39.000000    1.000000    0.000000   31.500000\n",
       "max    1309.000000    3.000000   76.000000    8.000000    9.000000  512.329200"
      ]
     },
     "execution_count": 7,
     "metadata": {},
     "output_type": "execute_result"
    }
   ],
   "source": [
    "test_data.describe()"
   ]
  },
  {
   "cell_type": "code",
   "execution_count": 8,
   "id": "9420de13",
   "metadata": {
    "execution": {
     "iopub.execute_input": "2021-10-08T01:38:26.214177Z",
     "iopub.status.busy": "2021-10-08T01:38:26.213206Z",
     "iopub.status.idle": "2021-10-08T01:38:26.221429Z",
     "shell.execute_reply": "2021-10-08T01:38:26.220926Z",
     "shell.execute_reply.started": "2021-10-08T01:35:30.191504Z"
    },
    "papermill": {
     "duration": 0.049503,
     "end_time": "2021-10-08T01:38:26.221570",
     "exception": false,
     "start_time": "2021-10-08T01:38:26.172067",
     "status": "completed"
    },
    "tags": []
   },
   "outputs": [
    {
     "data": {
      "text/plain": [
       "PassengerId      int64\n",
       "Survived         int64\n",
       "Pclass           int64\n",
       "Name            object\n",
       "Sex             object\n",
       "Age            float64\n",
       "SibSp            int64\n",
       "Parch            int64\n",
       "Ticket          object\n",
       "Fare           float64\n",
       "Cabin           object\n",
       "Embarked        object\n",
       "dtype: object"
      ]
     },
     "execution_count": 8,
     "metadata": {},
     "output_type": "execute_result"
    }
   ],
   "source": [
    "train_data.dtypes"
   ]
  },
  {
   "cell_type": "code",
   "execution_count": 9,
   "id": "e331f00c",
   "metadata": {
    "execution": {
     "iopub.execute_input": "2021-10-08T01:38:26.292267Z",
     "iopub.status.busy": "2021-10-08T01:38:26.291368Z",
     "iopub.status.idle": "2021-10-08T01:38:26.296793Z",
     "shell.execute_reply": "2021-10-08T01:38:26.296151Z",
     "shell.execute_reply.started": "2021-10-08T01:35:30.200752Z"
    },
    "papermill": {
     "duration": 0.044173,
     "end_time": "2021-10-08T01:38:26.296947",
     "exception": false,
     "start_time": "2021-10-08T01:38:26.252774",
     "status": "completed"
    },
    "tags": []
   },
   "outputs": [
    {
     "data": {
      "text/plain": [
       "PassengerId      int64\n",
       "Pclass           int64\n",
       "Name            object\n",
       "Sex             object\n",
       "Age            float64\n",
       "SibSp            int64\n",
       "Parch            int64\n",
       "Ticket          object\n",
       "Fare           float64\n",
       "Cabin           object\n",
       "Embarked        object\n",
       "dtype: object"
      ]
     },
     "execution_count": 9,
     "metadata": {},
     "output_type": "execute_result"
    }
   ],
   "source": [
    "test_data.dtypes"
   ]
  },
  {
   "cell_type": "code",
   "execution_count": 10,
   "id": "e377184a",
   "metadata": {
    "execution": {
     "iopub.execute_input": "2021-10-08T01:38:26.368554Z",
     "iopub.status.busy": "2021-10-08T01:38:26.367764Z",
     "iopub.status.idle": "2021-10-08T01:38:26.383952Z",
     "shell.execute_reply": "2021-10-08T01:38:26.383238Z",
     "shell.execute_reply.started": "2021-10-08T01:35:30.213943Z"
    },
    "papermill": {
     "duration": 0.05614,
     "end_time": "2021-10-08T01:38:26.384163",
     "exception": false,
     "start_time": "2021-10-08T01:38:26.328023",
     "status": "completed"
    },
    "tags": []
   },
   "outputs": [
    {
     "data": {
      "text/html": [
       "<div>\n",
       "<style scoped>\n",
       "    .dataframe tbody tr th:only-of-type {\n",
       "        vertical-align: middle;\n",
       "    }\n",
       "\n",
       "    .dataframe tbody tr th {\n",
       "        vertical-align: top;\n",
       "    }\n",
       "\n",
       "    .dataframe thead th {\n",
       "        text-align: right;\n",
       "    }\n",
       "</style>\n",
       "<table border=\"1\" class=\"dataframe\">\n",
       "  <thead>\n",
       "    <tr style=\"text-align: right;\">\n",
       "      <th></th>\n",
       "      <th>PassengerId</th>\n",
       "      <th>Survived</th>\n",
       "      <th>Pclass</th>\n",
       "      <th>Age</th>\n",
       "      <th>SibSp</th>\n",
       "      <th>Parch</th>\n",
       "      <th>Fare</th>\n",
       "    </tr>\n",
       "  </thead>\n",
       "  <tbody>\n",
       "    <tr>\n",
       "      <th>PassengerId</th>\n",
       "      <td>1.000000</td>\n",
       "      <td>-0.005007</td>\n",
       "      <td>-0.035144</td>\n",
       "      <td>0.036847</td>\n",
       "      <td>-0.057527</td>\n",
       "      <td>-0.001652</td>\n",
       "      <td>0.012658</td>\n",
       "    </tr>\n",
       "    <tr>\n",
       "      <th>Survived</th>\n",
       "      <td>-0.005007</td>\n",
       "      <td>1.000000</td>\n",
       "      <td>-0.338481</td>\n",
       "      <td>-0.077221</td>\n",
       "      <td>-0.035322</td>\n",
       "      <td>0.081629</td>\n",
       "      <td>0.257307</td>\n",
       "    </tr>\n",
       "    <tr>\n",
       "      <th>Pclass</th>\n",
       "      <td>-0.035144</td>\n",
       "      <td>-0.338481</td>\n",
       "      <td>1.000000</td>\n",
       "      <td>-0.369226</td>\n",
       "      <td>0.083081</td>\n",
       "      <td>0.018443</td>\n",
       "      <td>-0.549500</td>\n",
       "    </tr>\n",
       "    <tr>\n",
       "      <th>Age</th>\n",
       "      <td>0.036847</td>\n",
       "      <td>-0.077221</td>\n",
       "      <td>-0.369226</td>\n",
       "      <td>1.000000</td>\n",
       "      <td>-0.308247</td>\n",
       "      <td>-0.189119</td>\n",
       "      <td>0.096067</td>\n",
       "    </tr>\n",
       "    <tr>\n",
       "      <th>SibSp</th>\n",
       "      <td>-0.057527</td>\n",
       "      <td>-0.035322</td>\n",
       "      <td>0.083081</td>\n",
       "      <td>-0.308247</td>\n",
       "      <td>1.000000</td>\n",
       "      <td>0.414838</td>\n",
       "      <td>0.159651</td>\n",
       "    </tr>\n",
       "    <tr>\n",
       "      <th>Parch</th>\n",
       "      <td>-0.001652</td>\n",
       "      <td>0.081629</td>\n",
       "      <td>0.018443</td>\n",
       "      <td>-0.189119</td>\n",
       "      <td>0.414838</td>\n",
       "      <td>1.000000</td>\n",
       "      <td>0.216225</td>\n",
       "    </tr>\n",
       "    <tr>\n",
       "      <th>Fare</th>\n",
       "      <td>0.012658</td>\n",
       "      <td>0.257307</td>\n",
       "      <td>-0.549500</td>\n",
       "      <td>0.096067</td>\n",
       "      <td>0.159651</td>\n",
       "      <td>0.216225</td>\n",
       "      <td>1.000000</td>\n",
       "    </tr>\n",
       "  </tbody>\n",
       "</table>\n",
       "</div>"
      ],
      "text/plain": [
       "             PassengerId  Survived    Pclass       Age     SibSp     Parch  \\\n",
       "PassengerId     1.000000 -0.005007 -0.035144  0.036847 -0.057527 -0.001652   \n",
       "Survived       -0.005007  1.000000 -0.338481 -0.077221 -0.035322  0.081629   \n",
       "Pclass         -0.035144 -0.338481  1.000000 -0.369226  0.083081  0.018443   \n",
       "Age             0.036847 -0.077221 -0.369226  1.000000 -0.308247 -0.189119   \n",
       "SibSp          -0.057527 -0.035322  0.083081 -0.308247  1.000000  0.414838   \n",
       "Parch          -0.001652  0.081629  0.018443 -0.189119  0.414838  1.000000   \n",
       "Fare            0.012658  0.257307 -0.549500  0.096067  0.159651  0.216225   \n",
       "\n",
       "                 Fare  \n",
       "PassengerId  0.012658  \n",
       "Survived     0.257307  \n",
       "Pclass      -0.549500  \n",
       "Age          0.096067  \n",
       "SibSp        0.159651  \n",
       "Parch        0.216225  \n",
       "Fare         1.000000  "
      ]
     },
     "execution_count": 10,
     "metadata": {},
     "output_type": "execute_result"
    }
   ],
   "source": [
    "train_data.corr()"
   ]
  },
  {
   "cell_type": "code",
   "execution_count": 11,
   "id": "d9ad4e64",
   "metadata": {
    "execution": {
     "iopub.execute_input": "2021-10-08T01:38:26.456706Z",
     "iopub.status.busy": "2021-10-08T01:38:26.452901Z",
     "iopub.status.idle": "2021-10-08T01:38:26.465871Z",
     "shell.execute_reply": "2021-10-08T01:38:26.465372Z",
     "shell.execute_reply.started": "2021-10-08T01:35:30.237681Z"
    },
    "papermill": {
     "duration": 0.049212,
     "end_time": "2021-10-08T01:38:26.466009",
     "exception": false,
     "start_time": "2021-10-08T01:38:26.416797",
     "status": "completed"
    },
    "tags": []
   },
   "outputs": [
    {
     "data": {
      "text/html": [
       "<div>\n",
       "<style scoped>\n",
       "    .dataframe tbody tr th:only-of-type {\n",
       "        vertical-align: middle;\n",
       "    }\n",
       "\n",
       "    .dataframe tbody tr th {\n",
       "        vertical-align: top;\n",
       "    }\n",
       "\n",
       "    .dataframe thead th {\n",
       "        text-align: right;\n",
       "    }\n",
       "</style>\n",
       "<table border=\"1\" class=\"dataframe\">\n",
       "  <thead>\n",
       "    <tr style=\"text-align: right;\">\n",
       "      <th></th>\n",
       "      <th>Survived</th>\n",
       "    </tr>\n",
       "    <tr>\n",
       "      <th>Pclass</th>\n",
       "      <th></th>\n",
       "    </tr>\n",
       "  </thead>\n",
       "  <tbody>\n",
       "    <tr>\n",
       "      <th>1</th>\n",
       "      <td>0.629630</td>\n",
       "    </tr>\n",
       "    <tr>\n",
       "      <th>2</th>\n",
       "      <td>0.472826</td>\n",
       "    </tr>\n",
       "    <tr>\n",
       "      <th>3</th>\n",
       "      <td>0.242363</td>\n",
       "    </tr>\n",
       "  </tbody>\n",
       "</table>\n",
       "</div>"
      ],
      "text/plain": [
       "        Survived\n",
       "Pclass          \n",
       "1       0.629630\n",
       "2       0.472826\n",
       "3       0.242363"
      ]
     },
     "execution_count": 11,
     "metadata": {},
     "output_type": "execute_result"
    }
   ],
   "source": [
    "train_data[['Survived','Pclass']].groupby(['Pclass']).mean()"
   ]
  },
  {
   "cell_type": "code",
   "execution_count": 12,
   "id": "55c1341c",
   "metadata": {
    "execution": {
     "iopub.execute_input": "2021-10-08T01:38:26.539278Z",
     "iopub.status.busy": "2021-10-08T01:38:26.534713Z",
     "iopub.status.idle": "2021-10-08T01:38:26.543500Z",
     "shell.execute_reply": "2021-10-08T01:38:26.543032Z",
     "shell.execute_reply.started": "2021-10-08T01:35:30.255096Z"
    },
    "papermill": {
     "duration": 0.046463,
     "end_time": "2021-10-08T01:38:26.543638",
     "exception": false,
     "start_time": "2021-10-08T01:38:26.497175",
     "status": "completed"
    },
    "tags": []
   },
   "outputs": [
    {
     "data": {
      "text/html": [
       "<div>\n",
       "<style scoped>\n",
       "    .dataframe tbody tr th:only-of-type {\n",
       "        vertical-align: middle;\n",
       "    }\n",
       "\n",
       "    .dataframe tbody tr th {\n",
       "        vertical-align: top;\n",
       "    }\n",
       "\n",
       "    .dataframe thead th {\n",
       "        text-align: right;\n",
       "    }\n",
       "</style>\n",
       "<table border=\"1\" class=\"dataframe\">\n",
       "  <thead>\n",
       "    <tr style=\"text-align: right;\">\n",
       "      <th></th>\n",
       "      <th>Survived</th>\n",
       "    </tr>\n",
       "    <tr>\n",
       "      <th>SibSp</th>\n",
       "      <th></th>\n",
       "    </tr>\n",
       "  </thead>\n",
       "  <tbody>\n",
       "    <tr>\n",
       "      <th>0</th>\n",
       "      <td>0.345395</td>\n",
       "    </tr>\n",
       "    <tr>\n",
       "      <th>1</th>\n",
       "      <td>0.535885</td>\n",
       "    </tr>\n",
       "    <tr>\n",
       "      <th>2</th>\n",
       "      <td>0.464286</td>\n",
       "    </tr>\n",
       "    <tr>\n",
       "      <th>3</th>\n",
       "      <td>0.250000</td>\n",
       "    </tr>\n",
       "    <tr>\n",
       "      <th>4</th>\n",
       "      <td>0.166667</td>\n",
       "    </tr>\n",
       "    <tr>\n",
       "      <th>5</th>\n",
       "      <td>0.000000</td>\n",
       "    </tr>\n",
       "    <tr>\n",
       "      <th>8</th>\n",
       "      <td>0.000000</td>\n",
       "    </tr>\n",
       "  </tbody>\n",
       "</table>\n",
       "</div>"
      ],
      "text/plain": [
       "       Survived\n",
       "SibSp          \n",
       "0      0.345395\n",
       "1      0.535885\n",
       "2      0.464286\n",
       "3      0.250000\n",
       "4      0.166667\n",
       "5      0.000000\n",
       "8      0.000000"
      ]
     },
     "execution_count": 12,
     "metadata": {},
     "output_type": "execute_result"
    }
   ],
   "source": [
    "train_data[['Survived','SibSp']].groupby(['SibSp']).mean()"
   ]
  },
  {
   "cell_type": "code",
   "execution_count": 13,
   "id": "54ac67d2",
   "metadata": {
    "execution": {
     "iopub.execute_input": "2021-10-08T01:38:26.618005Z",
     "iopub.status.busy": "2021-10-08T01:38:26.617335Z",
     "iopub.status.idle": "2021-10-08T01:38:26.620812Z",
     "shell.execute_reply": "2021-10-08T01:38:26.620215Z",
     "shell.execute_reply.started": "2021-10-08T01:35:30.274548Z"
    },
    "papermill": {
     "duration": 0.045297,
     "end_time": "2021-10-08T01:38:26.620952",
     "exception": false,
     "start_time": "2021-10-08T01:38:26.575655",
     "status": "completed"
    },
    "tags": []
   },
   "outputs": [
    {
     "data": {
      "text/html": [
       "<div>\n",
       "<style scoped>\n",
       "    .dataframe tbody tr th:only-of-type {\n",
       "        vertical-align: middle;\n",
       "    }\n",
       "\n",
       "    .dataframe tbody tr th {\n",
       "        vertical-align: top;\n",
       "    }\n",
       "\n",
       "    .dataframe thead th {\n",
       "        text-align: right;\n",
       "    }\n",
       "</style>\n",
       "<table border=\"1\" class=\"dataframe\">\n",
       "  <thead>\n",
       "    <tr style=\"text-align: right;\">\n",
       "      <th></th>\n",
       "      <th>Survived</th>\n",
       "    </tr>\n",
       "    <tr>\n",
       "      <th>Parch</th>\n",
       "      <th></th>\n",
       "    </tr>\n",
       "  </thead>\n",
       "  <tbody>\n",
       "    <tr>\n",
       "      <th>0</th>\n",
       "      <td>0.343658</td>\n",
       "    </tr>\n",
       "    <tr>\n",
       "      <th>1</th>\n",
       "      <td>0.550847</td>\n",
       "    </tr>\n",
       "    <tr>\n",
       "      <th>2</th>\n",
       "      <td>0.500000</td>\n",
       "    </tr>\n",
       "    <tr>\n",
       "      <th>3</th>\n",
       "      <td>0.600000</td>\n",
       "    </tr>\n",
       "    <tr>\n",
       "      <th>4</th>\n",
       "      <td>0.000000</td>\n",
       "    </tr>\n",
       "    <tr>\n",
       "      <th>5</th>\n",
       "      <td>0.200000</td>\n",
       "    </tr>\n",
       "    <tr>\n",
       "      <th>6</th>\n",
       "      <td>0.000000</td>\n",
       "    </tr>\n",
       "  </tbody>\n",
       "</table>\n",
       "</div>"
      ],
      "text/plain": [
       "       Survived\n",
       "Parch          \n",
       "0      0.343658\n",
       "1      0.550847\n",
       "2      0.500000\n",
       "3      0.600000\n",
       "4      0.000000\n",
       "5      0.200000\n",
       "6      0.000000"
      ]
     },
     "execution_count": 13,
     "metadata": {},
     "output_type": "execute_result"
    }
   ],
   "source": [
    "train_data[['Survived','Parch']].groupby(['Parch']).mean()"
   ]
  },
  {
   "cell_type": "code",
   "execution_count": 14,
   "id": "7516805f",
   "metadata": {
    "execution": {
     "iopub.execute_input": "2021-10-08T01:38:26.694006Z",
     "iopub.status.busy": "2021-10-08T01:38:26.690951Z",
     "iopub.status.idle": "2021-10-08T01:38:26.704704Z",
     "shell.execute_reply": "2021-10-08T01:38:26.704111Z",
     "shell.execute_reply.started": "2021-10-08T01:35:30.294160Z"
    },
    "papermill": {
     "duration": 0.051773,
     "end_time": "2021-10-08T01:38:26.704851",
     "exception": false,
     "start_time": "2021-10-08T01:38:26.653078",
     "status": "completed"
    },
    "tags": []
   },
   "outputs": [
    {
     "data": {
      "text/html": [
       "<div>\n",
       "<style scoped>\n",
       "    .dataframe tbody tr th:only-of-type {\n",
       "        vertical-align: middle;\n",
       "    }\n",
       "\n",
       "    .dataframe tbody tr th {\n",
       "        vertical-align: top;\n",
       "    }\n",
       "\n",
       "    .dataframe thead th {\n",
       "        text-align: right;\n",
       "    }\n",
       "</style>\n",
       "<table border=\"1\" class=\"dataframe\">\n",
       "  <thead>\n",
       "    <tr style=\"text-align: right;\">\n",
       "      <th></th>\n",
       "      <th>Survived</th>\n",
       "    </tr>\n",
       "    <tr>\n",
       "      <th>Age</th>\n",
       "      <th></th>\n",
       "    </tr>\n",
       "  </thead>\n",
       "  <tbody>\n",
       "    <tr>\n",
       "      <th>0.42</th>\n",
       "      <td>1.0</td>\n",
       "    </tr>\n",
       "    <tr>\n",
       "      <th>0.67</th>\n",
       "      <td>1.0</td>\n",
       "    </tr>\n",
       "    <tr>\n",
       "      <th>0.75</th>\n",
       "      <td>1.0</td>\n",
       "    </tr>\n",
       "    <tr>\n",
       "      <th>0.83</th>\n",
       "      <td>1.0</td>\n",
       "    </tr>\n",
       "    <tr>\n",
       "      <th>0.92</th>\n",
       "      <td>1.0</td>\n",
       "    </tr>\n",
       "    <tr>\n",
       "      <th>...</th>\n",
       "      <td>...</td>\n",
       "    </tr>\n",
       "    <tr>\n",
       "      <th>70.00</th>\n",
       "      <td>0.0</td>\n",
       "    </tr>\n",
       "    <tr>\n",
       "      <th>70.50</th>\n",
       "      <td>0.0</td>\n",
       "    </tr>\n",
       "    <tr>\n",
       "      <th>71.00</th>\n",
       "      <td>0.0</td>\n",
       "    </tr>\n",
       "    <tr>\n",
       "      <th>74.00</th>\n",
       "      <td>0.0</td>\n",
       "    </tr>\n",
       "    <tr>\n",
       "      <th>80.00</th>\n",
       "      <td>1.0</td>\n",
       "    </tr>\n",
       "  </tbody>\n",
       "</table>\n",
       "<p>88 rows × 1 columns</p>\n",
       "</div>"
      ],
      "text/plain": [
       "       Survived\n",
       "Age            \n",
       "0.42        1.0\n",
       "0.67        1.0\n",
       "0.75        1.0\n",
       "0.83        1.0\n",
       "0.92        1.0\n",
       "...         ...\n",
       "70.00       0.0\n",
       "70.50       0.0\n",
       "71.00       0.0\n",
       "74.00       0.0\n",
       "80.00       1.0\n",
       "\n",
       "[88 rows x 1 columns]"
      ]
     },
     "execution_count": 14,
     "metadata": {},
     "output_type": "execute_result"
    }
   ],
   "source": [
    "train_data[['Survived','Age']].groupby(['Age']).mean()"
   ]
  },
  {
   "cell_type": "code",
   "execution_count": 15,
   "id": "f1cd87cc",
   "metadata": {
    "execution": {
     "iopub.execute_input": "2021-10-08T01:38:26.774902Z",
     "iopub.status.busy": "2021-10-08T01:38:26.774192Z",
     "iopub.status.idle": "2021-10-08T01:38:28.115115Z",
     "shell.execute_reply": "2021-10-08T01:38:28.114534Z",
     "shell.execute_reply.started": "2021-10-08T01:35:30.317861Z"
    },
    "papermill": {
     "duration": 1.377778,
     "end_time": "2021-10-08T01:38:28.115248",
     "exception": false,
     "start_time": "2021-10-08T01:38:26.737470",
     "status": "completed"
    },
    "tags": []
   },
   "outputs": [
    {
     "data": {
      "text/plain": [
       "<AxesSubplot:>"
      ]
     },
     "execution_count": 15,
     "metadata": {},
     "output_type": "execute_result"
    },
    {
     "data": {
      "image/png": "[encoded data removed]",
      "text/plain": [
       "<Figure size 432x288 with 2 Axes>"
      ]
     },
     "metadata": {
      "needs_background": "light"
     },
     "output_type": "display_data"
    }
   ],
   "source": [
    "import seaborn as sb\n",
    "sb.heatmap(train_data.isnull())"
   ]
  },
  {
   "cell_type": "code",
   "execution_count": 16,
   "id": "b7d9a00f",
   "metadata": {
    "execution": {
     "iopub.execute_input": "2021-10-08T01:38:28.191212Z",
     "iopub.status.busy": "2021-10-08T01:38:28.190614Z",
     "iopub.status.idle": "2021-10-08T01:38:28.200406Z",
     "shell.execute_reply": "2021-10-08T01:38:28.200804Z",
     "shell.execute_reply.started": "2021-10-08T01:35:30.799663Z"
    },
    "papermill": {
     "duration": 0.050447,
     "end_time": "2021-10-08T01:38:28.200971",
     "exception": false,
     "start_time": "2021-10-08T01:38:28.150524",
     "status": "completed"
    },
    "tags": []
   },
   "outputs": [
    {
     "data": {
      "text/html": [
       "<div>\n",
       "<style scoped>\n",
       "    .dataframe tbody tr th:only-of-type {\n",
       "        vertical-align: middle;\n",
       "    }\n",
       "\n",
       "    .dataframe tbody tr th {\n",
       "        vertical-align: top;\n",
       "    }\n",
       "\n",
       "    .dataframe thead th {\n",
       "        text-align: right;\n",
       "    }\n",
       "</style>\n",
       "<table border=\"1\" class=\"dataframe\">\n",
       "  <thead>\n",
       "    <tr style=\"text-align: right;\">\n",
       "      <th></th>\n",
       "      <th>Survived</th>\n",
       "    </tr>\n",
       "    <tr>\n",
       "      <th>Fare</th>\n",
       "      <th></th>\n",
       "    </tr>\n",
       "  </thead>\n",
       "  <tbody>\n",
       "    <tr>\n",
       "      <th>0.0000</th>\n",
       "      <td>0.066667</td>\n",
       "    </tr>\n",
       "    <tr>\n",
       "      <th>4.0125</th>\n",
       "      <td>0.000000</td>\n",
       "    </tr>\n",
       "    <tr>\n",
       "      <th>5.0000</th>\n",
       "      <td>0.000000</td>\n",
       "    </tr>\n",
       "    <tr>\n",
       "      <th>6.2375</th>\n",
       "      <td>0.000000</td>\n",
       "    </tr>\n",
       "    <tr>\n",
       "      <th>6.4375</th>\n",
       "      <td>0.000000</td>\n",
       "    </tr>\n",
       "    <tr>\n",
       "      <th>...</th>\n",
       "      <td>...</td>\n",
       "    </tr>\n",
       "    <tr>\n",
       "      <th>227.5250</th>\n",
       "      <td>0.750000</td>\n",
       "    </tr>\n",
       "    <tr>\n",
       "      <th>247.5208</th>\n",
       "      <td>0.500000</td>\n",
       "    </tr>\n",
       "    <tr>\n",
       "      <th>262.3750</th>\n",
       "      <td>1.000000</td>\n",
       "    </tr>\n",
       "    <tr>\n",
       "      <th>263.0000</th>\n",
       "      <td>0.500000</td>\n",
       "    </tr>\n",
       "    <tr>\n",
       "      <th>512.3292</th>\n",
       "      <td>1.000000</td>\n",
       "    </tr>\n",
       "  </tbody>\n",
       "</table>\n",
       "<p>248 rows × 1 columns</p>\n",
       "</div>"
      ],
      "text/plain": [
       "          Survived\n",
       "Fare              \n",
       "0.0000    0.066667\n",
       "4.0125    0.000000\n",
       "5.0000    0.000000\n",
       "6.2375    0.000000\n",
       "6.4375    0.000000\n",
       "...            ...\n",
       "227.5250  0.750000\n",
       "247.5208  0.500000\n",
       "262.3750  1.000000\n",
       "263.0000  0.500000\n",
       "512.3292  1.000000\n",
       "\n",
       "[248 rows x 1 columns]"
      ]
     },
     "execution_count": 16,
     "metadata": {},
     "output_type": "execute_result"
    }
   ],
   "source": [
    "train_data[['Survived','Fare']].groupby(['Fare']).mean()"
   ]
  },
  {
   "cell_type": "code",
   "execution_count": 17,
   "id": "6bbecf17",
   "metadata": {
    "execution": {
     "iopub.execute_input": "2021-10-08T01:38:28.272063Z",
     "iopub.status.busy": "2021-10-08T01:38:28.271504Z",
     "iopub.status.idle": "2021-10-08T01:38:28.281903Z",
     "shell.execute_reply": "2021-10-08T01:38:28.281391Z",
     "shell.execute_reply.started": "2021-10-08T01:35:30.818821Z"
    },
    "papermill": {
     "duration": 0.047142,
     "end_time": "2021-10-08T01:38:28.282037",
     "exception": false,
     "start_time": "2021-10-08T01:38:28.234895",
     "status": "completed"
    },
    "tags": []
   },
   "outputs": [
    {
     "data": {
      "text/html": [
       "<div>\n",
       "<style scoped>\n",
       "    .dataframe tbody tr th:only-of-type {\n",
       "        vertical-align: middle;\n",
       "    }\n",
       "\n",
       "    .dataframe tbody tr th {\n",
       "        vertical-align: top;\n",
       "    }\n",
       "\n",
       "    .dataframe thead th {\n",
       "        text-align: right;\n",
       "    }\n",
       "</style>\n",
       "<table border=\"1\" class=\"dataframe\">\n",
       "  <thead>\n",
       "    <tr style=\"text-align: right;\">\n",
       "      <th></th>\n",
       "      <th>Survived</th>\n",
       "    </tr>\n",
       "    <tr>\n",
       "      <th>Embarked</th>\n",
       "      <th></th>\n",
       "    </tr>\n",
       "  </thead>\n",
       "  <tbody>\n",
       "    <tr>\n",
       "      <th>C</th>\n",
       "      <td>0.553571</td>\n",
       "    </tr>\n",
       "    <tr>\n",
       "      <th>Q</th>\n",
       "      <td>0.389610</td>\n",
       "    </tr>\n",
       "    <tr>\n",
       "      <th>S</th>\n",
       "      <td>0.336957</td>\n",
       "    </tr>\n",
       "  </tbody>\n",
       "</table>\n",
       "</div>"
      ],
      "text/plain": [
       "          Survived\n",
       "Embarked          \n",
       "C         0.553571\n",
       "Q         0.389610\n",
       "S         0.336957"
      ]
     },
     "execution_count": 17,
     "metadata": {},
     "output_type": "execute_result"
    }
   ],
   "source": [
    "train_data[['Survived','Embarked']].groupby(['Embarked']).mean()"
   ]
  },
  {
   "cell_type": "code",
   "execution_count": 18,
   "id": "457658c6",
   "metadata": {
    "execution": {
     "iopub.execute_input": "2021-10-08T01:38:28.359105Z",
     "iopub.status.busy": "2021-10-08T01:38:28.358135Z",
     "iopub.status.idle": "2021-10-08T01:38:28.369473Z",
     "shell.execute_reply": "2021-10-08T01:38:28.368866Z",
     "shell.execute_reply.started": "2021-10-08T01:35:30.834033Z"
    },
    "papermill": {
     "duration": 0.052901,
     "end_time": "2021-10-08T01:38:28.369617",
     "exception": false,
     "start_time": "2021-10-08T01:38:28.316716",
     "status": "completed"
    },
    "tags": []
   },
   "outputs": [
    {
     "data": {
      "text/html": [
       "<div>\n",
       "<style scoped>\n",
       "    .dataframe tbody tr th:only-of-type {\n",
       "        vertical-align: middle;\n",
       "    }\n",
       "\n",
       "    .dataframe tbody tr th {\n",
       "        vertical-align: top;\n",
       "    }\n",
       "\n",
       "    .dataframe thead th {\n",
       "        text-align: right;\n",
       "    }\n",
       "</style>\n",
       "<table border=\"1\" class=\"dataframe\">\n",
       "  <thead>\n",
       "    <tr style=\"text-align: right;\">\n",
       "      <th></th>\n",
       "      <th>Survived</th>\n",
       "    </tr>\n",
       "    <tr>\n",
       "      <th>Ticket</th>\n",
       "      <th></th>\n",
       "    </tr>\n",
       "  </thead>\n",
       "  <tbody>\n",
       "    <tr>\n",
       "      <th>110152</th>\n",
       "      <td>1.000000</td>\n",
       "    </tr>\n",
       "    <tr>\n",
       "      <th>110413</th>\n",
       "      <td>0.666667</td>\n",
       "    </tr>\n",
       "    <tr>\n",
       "      <th>110465</th>\n",
       "      <td>0.000000</td>\n",
       "    </tr>\n",
       "    <tr>\n",
       "      <th>110564</th>\n",
       "      <td>1.000000</td>\n",
       "    </tr>\n",
       "    <tr>\n",
       "      <th>110813</th>\n",
       "      <td>1.000000</td>\n",
       "    </tr>\n",
       "    <tr>\n",
       "      <th>...</th>\n",
       "      <td>...</td>\n",
       "    </tr>\n",
       "    <tr>\n",
       "      <th>W./C. 6608</th>\n",
       "      <td>0.000000</td>\n",
       "    </tr>\n",
       "    <tr>\n",
       "      <th>W./C. 6609</th>\n",
       "      <td>0.000000</td>\n",
       "    </tr>\n",
       "    <tr>\n",
       "      <th>W.E.P. 5734</th>\n",
       "      <td>0.000000</td>\n",
       "    </tr>\n",
       "    <tr>\n",
       "      <th>W/C 14208</th>\n",
       "      <td>0.000000</td>\n",
       "    </tr>\n",
       "    <tr>\n",
       "      <th>WE/P 5735</th>\n",
       "      <td>0.500000</td>\n",
       "    </tr>\n",
       "  </tbody>\n",
       "</table>\n",
       "<p>681 rows × 1 columns</p>\n",
       "</div>"
      ],
      "text/plain": [
       "             Survived\n",
       "Ticket               \n",
       "110152       1.000000\n",
       "110413       0.666667\n",
       "110465       0.000000\n",
       "110564       1.000000\n",
       "110813       1.000000\n",
       "...               ...\n",
       "W./C. 6608   0.000000\n",
       "W./C. 6609   0.000000\n",
       "W.E.P. 5734  0.000000\n",
       "W/C 14208    0.000000\n",
       "WE/P 5735    0.500000\n",
       "\n",
       "[681 rows x 1 columns]"
      ]
     },
     "execution_count": 18,
     "metadata": {},
     "output_type": "execute_result"
    }
   ],
   "source": [
    "train_data[['Survived','Ticket']].groupby(['Ticket']).mean()"
   ]
  },
  {
   "cell_type": "code",
   "execution_count": 19,
   "id": "2cb4ab8f",
   "metadata": {
    "execution": {
     "iopub.execute_input": "2021-10-08T01:38:28.450739Z",
     "iopub.status.busy": "2021-10-08T01:38:28.450024Z",
     "iopub.status.idle": "2021-10-08T01:38:28.452696Z",
     "shell.execute_reply": "2021-10-08T01:38:28.453091Z",
     "shell.execute_reply.started": "2021-10-08T01:35:30.855638Z"
    },
    "papermill": {
     "duration": 0.04886,
     "end_time": "2021-10-08T01:38:28.453266",
     "exception": false,
     "start_time": "2021-10-08T01:38:28.404406",
     "status": "completed"
    },
    "tags": []
   },
   "outputs": [
    {
     "data": {
      "text/html": [
       "<div>\n",
       "<style scoped>\n",
       "    .dataframe tbody tr th:only-of-type {\n",
       "        vertical-align: middle;\n",
       "    }\n",
       "\n",
       "    .dataframe tbody tr th {\n",
       "        vertical-align: top;\n",
       "    }\n",
       "\n",
       "    .dataframe thead th {\n",
       "        text-align: right;\n",
       "    }\n",
       "</style>\n",
       "<table border=\"1\" class=\"dataframe\">\n",
       "  <thead>\n",
       "    <tr style=\"text-align: right;\">\n",
       "      <th></th>\n",
       "      <th>Survived</th>\n",
       "    </tr>\n",
       "    <tr>\n",
       "      <th>Sex</th>\n",
       "      <th></th>\n",
       "    </tr>\n",
       "  </thead>\n",
       "  <tbody>\n",
       "    <tr>\n",
       "      <th>female</th>\n",
       "      <td>0.742038</td>\n",
       "    </tr>\n",
       "    <tr>\n",
       "      <th>male</th>\n",
       "      <td>0.188908</td>\n",
       "    </tr>\n",
       "  </tbody>\n",
       "</table>\n",
       "</div>"
      ],
      "text/plain": [
       "        Survived\n",
       "Sex             \n",
       "female  0.742038\n",
       "male    0.188908"
      ]
     },
     "execution_count": 19,
     "metadata": {},
     "output_type": "execute_result"
    }
   ],
   "source": [
    "train_data[['Survived','Sex']].groupby(['Sex']).mean()"
   ]
  },
  {
   "cell_type": "code",
   "execution_count": 20,
   "id": "08d05961",
   "metadata": {
    "execution": {
     "iopub.execute_input": "2021-10-08T01:38:28.526568Z",
     "iopub.status.busy": "2021-10-08T01:38:28.525918Z",
     "iopub.status.idle": "2021-10-08T01:38:28.539390Z",
     "shell.execute_reply": "2021-10-08T01:38:28.539812Z",
     "shell.execute_reply.started": "2021-10-08T01:35:30.868745Z"
    },
    "papermill": {
     "duration": 0.051847,
     "end_time": "2021-10-08T01:38:28.539986",
     "exception": false,
     "start_time": "2021-10-08T01:38:28.488139",
     "status": "completed"
    },
    "tags": []
   },
   "outputs": [
    {
     "data": {
      "text/html": [
       "<div>\n",
       "<style scoped>\n",
       "    .dataframe tbody tr th:only-of-type {\n",
       "        vertical-align: middle;\n",
       "    }\n",
       "\n",
       "    .dataframe tbody tr th {\n",
       "        vertical-align: top;\n",
       "    }\n",
       "\n",
       "    .dataframe thead th {\n",
       "        text-align: right;\n",
       "    }\n",
       "</style>\n",
       "<table border=\"1\" class=\"dataframe\">\n",
       "  <thead>\n",
       "    <tr style=\"text-align: right;\">\n",
       "      <th></th>\n",
       "      <th>Pclass</th>\n",
       "      <th>Age</th>\n",
       "      <th>SibSp</th>\n",
       "      <th>Parch</th>\n",
       "      <th>Fare</th>\n",
       "    </tr>\n",
       "    <tr>\n",
       "      <th>Survived</th>\n",
       "      <th></th>\n",
       "      <th></th>\n",
       "      <th></th>\n",
       "      <th></th>\n",
       "      <th></th>\n",
       "    </tr>\n",
       "  </thead>\n",
       "  <tbody>\n",
       "    <tr>\n",
       "      <th>0</th>\n",
       "      <td>2.531876</td>\n",
       "      <td>30.626179</td>\n",
       "      <td>0.553734</td>\n",
       "      <td>0.329690</td>\n",
       "      <td>22.117887</td>\n",
       "    </tr>\n",
       "    <tr>\n",
       "      <th>1</th>\n",
       "      <td>1.950292</td>\n",
       "      <td>28.343690</td>\n",
       "      <td>0.473684</td>\n",
       "      <td>0.464912</td>\n",
       "      <td>48.395408</td>\n",
       "    </tr>\n",
       "  </tbody>\n",
       "</table>\n",
       "</div>"
      ],
      "text/plain": [
       "            Pclass        Age     SibSp     Parch       Fare\n",
       "Survived                                                    \n",
       "0         2.531876  30.626179  0.553734  0.329690  22.117887\n",
       "1         1.950292  28.343690  0.473684  0.464912  48.395408"
      ]
     },
     "execution_count": 20,
     "metadata": {},
     "output_type": "execute_result"
    }
   ],
   "source": [
    "train_data[['Survived','Pclass','Sex','Age','SibSp','Parch','Fare','Embarked']].groupby(['Survived']).mean()"
   ]
  },
  {
   "cell_type": "markdown",
   "id": "3d793a1c",
   "metadata": {
    "papermill": {
     "duration": 0.034938,
     "end_time": "2021-10-08T01:38:28.610449",
     "exception": false,
     "start_time": "2021-10-08T01:38:28.575511",
     "status": "completed"
    },
    "tags": []
   },
   "source": [
    "***Dropping features with lesser relevance to survival***"
   ]
  },
  {
   "cell_type": "code",
   "execution_count": 21,
   "id": "4bb37d87",
   "metadata": {
    "execution": {
     "iopub.execute_input": "2021-10-08T01:38:28.684994Z",
     "iopub.status.busy": "2021-10-08T01:38:28.684050Z",
     "iopub.status.idle": "2021-10-08T01:38:28.689132Z",
     "shell.execute_reply": "2021-10-08T01:38:28.689728Z",
     "shell.execute_reply.started": "2021-10-08T01:35:30.890216Z"
    },
    "papermill": {
     "duration": 0.044231,
     "end_time": "2021-10-08T01:38:28.689898",
     "exception": false,
     "start_time": "2021-10-08T01:38:28.645667",
     "status": "completed"
    },
    "tags": []
   },
   "outputs": [],
   "source": [
    "train_data=train_data.drop(['PassengerId','Name','Ticket','Cabin',],axis=1)"
   ]
  },
  {
   "cell_type": "code",
   "execution_count": 22,
   "id": "50bf4236",
   "metadata": {
    "execution": {
     "iopub.execute_input": "2021-10-08T01:38:28.766929Z",
     "iopub.status.busy": "2021-10-08T01:38:28.765962Z",
     "iopub.status.idle": "2021-10-08T01:38:28.779042Z",
     "shell.execute_reply": "2021-10-08T01:38:28.779545Z",
     "shell.execute_reply.started": "2021-10-08T01:35:30.902899Z"
    },
    "papermill": {
     "duration": 0.054578,
     "end_time": "2021-10-08T01:38:28.779725",
     "exception": false,
     "start_time": "2021-10-08T01:38:28.725147",
     "status": "completed"
    },
    "tags": []
   },
   "outputs": [
    {
     "name": "stdout",
     "output_type": "stream",
     "text": [
      "<class 'pandas.core.frame.DataFrame'>\n",
      "RangeIndex: 891 entries, 0 to 890\n",
      "Data columns (total 8 columns):\n",
      " #   Column    Non-Null Count  Dtype  \n",
      "---  ------    --------------  -----  \n",
      " 0   Survived  891 non-null    int64  \n",
      " 1   Pclass    891 non-null    int64  \n",
      " 2   Sex       891 non-null    object \n",
      " 3   Age       714 non-null    float64\n",
      " 4   SibSp     891 non-null    int64  \n",
      " 5   Parch     891 non-null    int64  \n",
      " 6   Fare      891 non-null    float64\n",
      " 7   Embarked  889 non-null    object \n",
      "dtypes: float64(2), int64(4), object(2)\n",
      "memory usage: 55.8+ KB\n"
     ]
    }
   ],
   "source": [
    "train_data.head()\n",
    "train_data.info()"
   ]
  },
  {
   "cell_type": "code",
   "execution_count": 23,
   "id": "98530928",
   "metadata": {
    "execution": {
     "iopub.execute_input": "2021-10-08T01:38:28.857464Z",
     "iopub.status.busy": "2021-10-08T01:38:28.856814Z",
     "iopub.status.idle": "2021-10-08T01:38:28.867760Z",
     "shell.execute_reply": "2021-10-08T01:38:28.868204Z",
     "shell.execute_reply.started": "2021-10-08T01:35:30.923492Z"
    },
    "papermill": {
     "duration": 0.051201,
     "end_time": "2021-10-08T01:38:28.868429",
     "exception": false,
     "start_time": "2021-10-08T01:38:28.817228",
     "status": "completed"
    },
    "tags": []
   },
   "outputs": [
    {
     "data": {
      "text/html": [
       "<div>\n",
       "<style scoped>\n",
       "    .dataframe tbody tr th:only-of-type {\n",
       "        vertical-align: middle;\n",
       "    }\n",
       "\n",
       "    .dataframe tbody tr th {\n",
       "        vertical-align: top;\n",
       "    }\n",
       "\n",
       "    .dataframe thead th {\n",
       "        text-align: right;\n",
       "    }\n",
       "</style>\n",
       "<table border=\"1\" class=\"dataframe\">\n",
       "  <thead>\n",
       "    <tr style=\"text-align: right;\">\n",
       "      <th></th>\n",
       "      <th>Survived</th>\n",
       "      <th>Pclass</th>\n",
       "      <th>Sex</th>\n",
       "      <th>Age</th>\n",
       "      <th>SibSp</th>\n",
       "      <th>Parch</th>\n",
       "      <th>Fare</th>\n",
       "      <th>Embarked</th>\n",
       "    </tr>\n",
       "  </thead>\n",
       "  <tbody>\n",
       "    <tr>\n",
       "      <th>0</th>\n",
       "      <td>0</td>\n",
       "      <td>3</td>\n",
       "      <td>male</td>\n",
       "      <td>22.0</td>\n",
       "      <td>1</td>\n",
       "      <td>0</td>\n",
       "      <td>7.2500</td>\n",
       "      <td>S</td>\n",
       "    </tr>\n",
       "    <tr>\n",
       "      <th>1</th>\n",
       "      <td>1</td>\n",
       "      <td>1</td>\n",
       "      <td>female</td>\n",
       "      <td>38.0</td>\n",
       "      <td>1</td>\n",
       "      <td>0</td>\n",
       "      <td>71.2833</td>\n",
       "      <td>C</td>\n",
       "    </tr>\n",
       "    <tr>\n",
       "      <th>2</th>\n",
       "      <td>1</td>\n",
       "      <td>3</td>\n",
       "      <td>female</td>\n",
       "      <td>26.0</td>\n",
       "      <td>0</td>\n",
       "      <td>0</td>\n",
       "      <td>7.9250</td>\n",
       "      <td>S</td>\n",
       "    </tr>\n",
       "    <tr>\n",
       "      <th>3</th>\n",
       "      <td>1</td>\n",
       "      <td>1</td>\n",
       "      <td>female</td>\n",
       "      <td>35.0</td>\n",
       "      <td>1</td>\n",
       "      <td>0</td>\n",
       "      <td>53.1000</td>\n",
       "      <td>S</td>\n",
       "    </tr>\n",
       "    <tr>\n",
       "      <th>4</th>\n",
       "      <td>0</td>\n",
       "      <td>3</td>\n",
       "      <td>male</td>\n",
       "      <td>35.0</td>\n",
       "      <td>0</td>\n",
       "      <td>0</td>\n",
       "      <td>8.0500</td>\n",
       "      <td>S</td>\n",
       "    </tr>\n",
       "  </tbody>\n",
       "</table>\n",
       "</div>"
      ],
      "text/plain": [
       "   Survived  Pclass     Sex   Age  SibSp  Parch     Fare Embarked\n",
       "0         0       3    male  22.0      1      0   7.2500        S\n",
       "1         1       1  female  38.0      1      0  71.2833        C\n",
       "2         1       3  female  26.0      0      0   7.9250        S\n",
       "3         1       1  female  35.0      1      0  53.1000        S\n",
       "4         0       3    male  35.0      0      0   8.0500        S"
      ]
     },
     "execution_count": 23,
     "metadata": {},
     "output_type": "execute_result"
    }
   ],
   "source": [
    "train_data.head()"
   ]
  },
  {
   "cell_type": "markdown",
   "id": "457a77db",
   "metadata": {
    "papermill": {
     "duration": 0.03752,
     "end_time": "2021-10-08T01:38:28.943123",
     "exception": false,
     "start_time": "2021-10-08T01:38:28.905603",
     "status": "completed"
    },
    "tags": []
   },
   "source": [
    "***Filling missing values in Embarked***"
   ]
  },
  {
   "cell_type": "code",
   "execution_count": 24,
   "id": "9cf56f42",
   "metadata": {
    "execution": {
     "iopub.execute_input": "2021-10-08T01:38:29.025558Z",
     "iopub.status.busy": "2021-10-08T01:38:29.024912Z",
     "iopub.status.idle": "2021-10-08T01:38:29.028204Z",
     "shell.execute_reply": "2021-10-08T01:38:29.027595Z",
     "shell.execute_reply.started": "2021-10-08T01:35:30.939045Z"
    },
    "papermill": {
     "duration": 0.047319,
     "end_time": "2021-10-08T01:38:29.028362",
     "exception": false,
     "start_time": "2021-10-08T01:38:28.981043",
     "status": "completed"
    },
    "tags": []
   },
   "outputs": [],
   "source": [
    "train_data.Embarked=train_data.Embarked.fillna(train_data.Embarked.mode().iloc[0])"
   ]
  },
  {
   "cell_type": "code",
   "execution_count": 25,
   "id": "8d7f6f5b",
   "metadata": {
    "execution": {
     "iopub.execute_input": "2021-10-08T01:38:29.115044Z",
     "iopub.status.busy": "2021-10-08T01:38:29.107934Z",
     "iopub.status.idle": "2021-10-08T01:38:29.120289Z",
     "shell.execute_reply": "2021-10-08T01:38:29.119326Z",
     "shell.execute_reply.started": "2021-10-08T01:35:30.950674Z"
    },
    "papermill": {
     "duration": 0.055721,
     "end_time": "2021-10-08T01:38:29.120587",
     "exception": false,
     "start_time": "2021-10-08T01:38:29.064866",
     "status": "completed"
    },
    "tags": []
   },
   "outputs": [
    {
     "name": "stdout",
     "output_type": "stream",
     "text": [
      "<class 'pandas.core.frame.DataFrame'>\n",
      "RangeIndex: 891 entries, 0 to 890\n",
      "Data columns (total 8 columns):\n",
      " #   Column    Non-Null Count  Dtype  \n",
      "---  ------    --------------  -----  \n",
      " 0   Survived  891 non-null    int64  \n",
      " 1   Pclass    891 non-null    int64  \n",
      " 2   Sex       891 non-null    object \n",
      " 3   Age       714 non-null    float64\n",
      " 4   SibSp     891 non-null    int64  \n",
      " 5   Parch     891 non-null    int64  \n",
      " 6   Fare      891 non-null    float64\n",
      " 7   Embarked  891 non-null    object \n",
      "dtypes: float64(2), int64(4), object(2)\n",
      "memory usage: 55.8+ KB\n"
     ]
    }
   ],
   "source": [
    "train_data.info()"
   ]
  },
  {
   "cell_type": "markdown",
   "id": "05453db8",
   "metadata": {
    "papermill": {
     "duration": 0.036299,
     "end_time": "2021-10-08T01:38:29.195858",
     "exception": false,
     "start_time": "2021-10-08T01:38:29.159559",
     "status": "completed"
    },
    "tags": []
   },
   "source": [
    "***Filling missing values in Age***"
   ]
  },
  {
   "cell_type": "code",
   "execution_count": 26,
   "id": "f762955e",
   "metadata": {
    "execution": {
     "iopub.execute_input": "2021-10-08T01:38:29.274513Z",
     "iopub.status.busy": "2021-10-08T01:38:29.271603Z",
     "iopub.status.idle": "2021-10-08T01:38:29.343617Z",
     "shell.execute_reply": "2021-10-08T01:38:29.344163Z",
     "shell.execute_reply.started": "2021-10-08T01:35:30.970578Z"
    },
    "papermill": {
     "duration": 0.111968,
     "end_time": "2021-10-08T01:38:29.344358",
     "exception": false,
     "start_time": "2021-10-08T01:38:29.232390",
     "status": "completed"
    },
    "tags": []
   },
   "outputs": [
    {
     "name": "stderr",
     "output_type": "stream",
     "text": [
      "/opt/conda/lib/python3.7/site-packages/ipykernel_launcher.py:6: SettingWithCopyWarning: \n",
      "A value is trying to be set on a copy of a slice from a DataFrame\n",
      "\n",
      "See the caveats in the documentation: https://pandas.pydata.org/pandas-docs/stable/user_guide/indexing.html#returning-a-view-versus-a-copy\n",
      "  \n"
     ]
    }
   ],
   "source": [
    "import random\n",
    "mean_age=train_data.Age.mean()\n",
    "stdd_age=train_data.Age.std()\n",
    "for i in range(0,len(train_data)-1):\n",
    "    if np.isnan(train_data.Age[i]):\n",
    "        train_data.Age[i]=random.uniform(mean_age,stdd_age)"
   ]
  },
  {
   "cell_type": "code",
   "execution_count": 27,
   "id": "b6bbd105",
   "metadata": {
    "execution": {
     "iopub.execute_input": "2021-10-08T01:38:29.430990Z",
     "iopub.status.busy": "2021-10-08T01:38:29.430066Z",
     "iopub.status.idle": "2021-10-08T01:38:29.433108Z",
     "shell.execute_reply": "2021-10-08T01:38:29.433635Z",
     "shell.execute_reply.started": "2021-10-08T01:35:31.043212Z"
    },
    "papermill": {
     "duration": 0.052583,
     "end_time": "2021-10-08T01:38:29.433814",
     "exception": false,
     "start_time": "2021-10-08T01:38:29.381231",
     "status": "completed"
    },
    "tags": []
   },
   "outputs": [
    {
     "name": "stdout",
     "output_type": "stream",
     "text": [
      "<class 'pandas.core.frame.DataFrame'>\n",
      "RangeIndex: 891 entries, 0 to 890\n",
      "Data columns (total 8 columns):\n",
      " #   Column    Non-Null Count  Dtype  \n",
      "---  ------    --------------  -----  \n",
      " 0   Survived  891 non-null    int64  \n",
      " 1   Pclass    891 non-null    int64  \n",
      " 2   Sex       891 non-null    object \n",
      " 3   Age       891 non-null    float64\n",
      " 4   SibSp     891 non-null    int64  \n",
      " 5   Parch     891 non-null    int64  \n",
      " 6   Fare      891 non-null    float64\n",
      " 7   Embarked  891 non-null    object \n",
      "dtypes: float64(2), int64(4), object(2)\n",
      "memory usage: 55.8+ KB\n"
     ]
    }
   ],
   "source": [
    "train_data.info()"
   ]
  },
  {
   "cell_type": "markdown",
   "id": "67b523ab",
   "metadata": {
    "papermill": {
     "duration": 0.036647,
     "end_time": "2021-10-08T01:38:29.507514",
     "exception": false,
     "start_time": "2021-10-08T01:38:29.470867",
     "status": "completed"
    },
    "tags": []
   },
   "source": [
    "***Categorizing Age in Groups***"
   ]
  },
  {
   "cell_type": "code",
   "execution_count": 28,
   "id": "4ad78d1c",
   "metadata": {
    "execution": {
     "iopub.execute_input": "2021-10-08T01:38:29.741130Z",
     "iopub.status.busy": "2021-10-08T01:38:29.702329Z",
     "iopub.status.idle": "2021-10-08T01:38:29.884426Z",
     "shell.execute_reply": "2021-10-08T01:38:29.884900Z",
     "shell.execute_reply.started": "2021-10-08T01:35:31.059052Z"
    },
    "papermill": {
     "duration": 0.340652,
     "end_time": "2021-10-08T01:38:29.885071",
     "exception": false,
     "start_time": "2021-10-08T01:38:29.544419",
     "status": "completed"
    },
    "tags": []
   },
   "outputs": [
    {
     "name": "stderr",
     "output_type": "stream",
     "text": [
      "/opt/conda/lib/python3.7/site-packages/ipykernel_launcher.py:5: SettingWithCopyWarning: \n",
      "A value is trying to be set on a copy of a slice from a DataFrame\n",
      "\n",
      "See the caveats in the documentation: https://pandas.pydata.org/pandas-docs/stable/user_guide/indexing.html#returning-a-view-versus-a-copy\n",
      "  \"\"\"\n",
      "/opt/conda/lib/python3.7/site-packages/ipykernel_launcher.py:7: SettingWithCopyWarning: \n",
      "A value is trying to be set on a copy of a slice from a DataFrame\n",
      "\n",
      "See the caveats in the documentation: https://pandas.pydata.org/pandas-docs/stable/user_guide/indexing.html#returning-a-view-versus-a-copy\n",
      "  import sys\n",
      "/opt/conda/lib/python3.7/site-packages/ipykernel_launcher.py:3: SettingWithCopyWarning: \n",
      "A value is trying to be set on a copy of a slice from a DataFrame\n",
      "\n",
      "See the caveats in the documentation: https://pandas.pydata.org/pandas-docs/stable/user_guide/indexing.html#returning-a-view-versus-a-copy\n",
      "  This is separate from the ipykernel package so we can avoid doing imports until\n",
      "/opt/conda/lib/python3.7/site-packages/ipykernel_launcher.py:9: SettingWithCopyWarning: \n",
      "A value is trying to be set on a copy of a slice from a DataFrame\n",
      "\n",
      "See the caveats in the documentation: https://pandas.pydata.org/pandas-docs/stable/user_guide/indexing.html#returning-a-view-versus-a-copy\n",
      "  if __name__ == '__main__':\n"
     ]
    }
   ],
   "source": [
    "for i in range(0, len(train_data)):\n",
    "    if train_data.Age[i]>= 0 and train_data.Age[i]< 20:\n",
    "        train_data.Age[i]=0\n",
    "    elif train_data.Age[i]>=20 and train_data.Age[i]< 40:\n",
    "        train_data.Age[i]=1\n",
    "    elif train_data.Age[i]>= 40 and train_data.Age[i]< 60:\n",
    "        train_data.Age[i]=2\n",
    "    elif train_data.Age[i]>= 60 and train_data.Age[i]< 80:\n",
    "        train_data.Age[i]=3 "
   ]
  },
  {
   "cell_type": "code",
   "execution_count": 29,
   "id": "28525eb6",
   "metadata": {
    "execution": {
     "iopub.execute_input": "2021-10-08T01:38:29.972199Z",
     "iopub.status.busy": "2021-10-08T01:38:29.971553Z",
     "iopub.status.idle": "2021-10-08T01:38:29.975363Z",
     "shell.execute_reply": "2021-10-08T01:38:29.975783Z",
     "shell.execute_reply.started": "2021-10-08T01:35:31.362181Z"
    },
    "papermill": {
     "duration": 0.0534,
     "end_time": "2021-10-08T01:38:29.975967",
     "exception": false,
     "start_time": "2021-10-08T01:38:29.922567",
     "status": "completed"
    },
    "tags": []
   },
   "outputs": [
    {
     "data": {
      "text/html": [
       "<div>\n",
       "<style scoped>\n",
       "    .dataframe tbody tr th:only-of-type {\n",
       "        vertical-align: middle;\n",
       "    }\n",
       "\n",
       "    .dataframe tbody tr th {\n",
       "        vertical-align: top;\n",
       "    }\n",
       "\n",
       "    .dataframe thead th {\n",
       "        text-align: right;\n",
       "    }\n",
       "</style>\n",
       "<table border=\"1\" class=\"dataframe\">\n",
       "  <thead>\n",
       "    <tr style=\"text-align: right;\">\n",
       "      <th></th>\n",
       "      <th>Survived</th>\n",
       "      <th>Pclass</th>\n",
       "      <th>Sex</th>\n",
       "      <th>Age</th>\n",
       "      <th>SibSp</th>\n",
       "      <th>Parch</th>\n",
       "      <th>Fare</th>\n",
       "      <th>Embarked</th>\n",
       "    </tr>\n",
       "  </thead>\n",
       "  <tbody>\n",
       "    <tr>\n",
       "      <th>0</th>\n",
       "      <td>0</td>\n",
       "      <td>3</td>\n",
       "      <td>male</td>\n",
       "      <td>1.0</td>\n",
       "      <td>1</td>\n",
       "      <td>0</td>\n",
       "      <td>7.2500</td>\n",
       "      <td>S</td>\n",
       "    </tr>\n",
       "    <tr>\n",
       "      <th>1</th>\n",
       "      <td>1</td>\n",
       "      <td>1</td>\n",
       "      <td>female</td>\n",
       "      <td>1.0</td>\n",
       "      <td>1</td>\n",
       "      <td>0</td>\n",
       "      <td>71.2833</td>\n",
       "      <td>C</td>\n",
       "    </tr>\n",
       "    <tr>\n",
       "      <th>2</th>\n",
       "      <td>1</td>\n",
       "      <td>3</td>\n",
       "      <td>female</td>\n",
       "      <td>1.0</td>\n",
       "      <td>0</td>\n",
       "      <td>0</td>\n",
       "      <td>7.9250</td>\n",
       "      <td>S</td>\n",
       "    </tr>\n",
       "    <tr>\n",
       "      <th>3</th>\n",
       "      <td>1</td>\n",
       "      <td>1</td>\n",
       "      <td>female</td>\n",
       "      <td>1.0</td>\n",
       "      <td>1</td>\n",
       "      <td>0</td>\n",
       "      <td>53.1000</td>\n",
       "      <td>S</td>\n",
       "    </tr>\n",
       "    <tr>\n",
       "      <th>4</th>\n",
       "      <td>0</td>\n",
       "      <td>3</td>\n",
       "      <td>male</td>\n",
       "      <td>1.0</td>\n",
       "      <td>0</td>\n",
       "      <td>0</td>\n",
       "      <td>8.0500</td>\n",
       "      <td>S</td>\n",
       "    </tr>\n",
       "  </tbody>\n",
       "</table>\n",
       "</div>"
      ],
      "text/plain": [
       "   Survived  Pclass     Sex  Age  SibSp  Parch     Fare Embarked\n",
       "0         0       3    male  1.0      1      0   7.2500        S\n",
       "1         1       1  female  1.0      1      0  71.2833        C\n",
       "2         1       3  female  1.0      0      0   7.9250        S\n",
       "3         1       1  female  1.0      1      0  53.1000        S\n",
       "4         0       3    male  1.0      0      0   8.0500        S"
      ]
     },
     "execution_count": 29,
     "metadata": {},
     "output_type": "execute_result"
    }
   ],
   "source": [
    "train_data.head()"
   ]
  },
  {
   "cell_type": "markdown",
   "id": "6b8b7b5f",
   "metadata": {
    "papermill": {
     "duration": 0.037934,
     "end_time": "2021-10-08T01:38:30.051777",
     "exception": false,
     "start_time": "2021-10-08T01:38:30.013843",
     "status": "completed"
    },
    "tags": []
   },
   "source": [
    "***Categorizing Fare in Groups***"
   ]
  },
  {
   "cell_type": "code",
   "execution_count": 30,
   "id": "98a56c71",
   "metadata": {
    "execution": {
     "iopub.execute_input": "2021-10-08T01:38:30.345623Z",
     "iopub.status.busy": "2021-10-08T01:38:30.341938Z",
     "iopub.status.idle": "2021-10-08T01:38:30.476394Z",
     "shell.execute_reply": "2021-10-08T01:38:30.476814Z",
     "shell.execute_reply.started": "2021-10-08T01:35:31.379575Z"
    },
    "papermill": {
     "duration": 0.387125,
     "end_time": "2021-10-08T01:38:30.477003",
     "exception": false,
     "start_time": "2021-10-08T01:38:30.089878",
     "status": "completed"
    },
    "tags": []
   },
   "outputs": [
    {
     "name": "stderr",
     "output_type": "stream",
     "text": [
      "/opt/conda/lib/python3.7/site-packages/ipykernel_launcher.py:3: SettingWithCopyWarning: \n",
      "A value is trying to be set on a copy of a slice from a DataFrame\n",
      "\n",
      "See the caveats in the documentation: https://pandas.pydata.org/pandas-docs/stable/user_guide/indexing.html#returning-a-view-versus-a-copy\n",
      "  This is separate from the ipykernel package so we can avoid doing imports until\n",
      "/opt/conda/lib/python3.7/site-packages/ipykernel_launcher.py:7: SettingWithCopyWarning: \n",
      "A value is trying to be set on a copy of a slice from a DataFrame\n",
      "\n",
      "See the caveats in the documentation: https://pandas.pydata.org/pandas-docs/stable/user_guide/indexing.html#returning-a-view-versus-a-copy\n",
      "  import sys\n",
      "/opt/conda/lib/python3.7/site-packages/ipykernel_launcher.py:5: SettingWithCopyWarning: \n",
      "A value is trying to be set on a copy of a slice from a DataFrame\n",
      "\n",
      "See the caveats in the documentation: https://pandas.pydata.org/pandas-docs/stable/user_guide/indexing.html#returning-a-view-versus-a-copy\n",
      "  \"\"\"\n",
      "/opt/conda/lib/python3.7/site-packages/ipykernel_launcher.py:11: SettingWithCopyWarning: \n",
      "A value is trying to be set on a copy of a slice from a DataFrame\n",
      "\n",
      "See the caveats in the documentation: https://pandas.pydata.org/pandas-docs/stable/user_guide/indexing.html#returning-a-view-versus-a-copy\n",
      "  # This is added back by InteractiveShellApp.init_path()\n"
     ]
    }
   ],
   "source": [
    "for i in range(0, len(train_data)):\n",
    "    if train_data.Fare[i]>= 0 and train_data.Fare[i]< 100:\n",
    "        train_data.Fare[i]=0\n",
    "    elif train_data.Fare[i]>= 100 and train_data.Fare[i]< 200:\n",
    "        train_data.Fare[i]=1\n",
    "    elif train_data.Fare[i]>= 200 and train_data.Fare[i]< 300:\n",
    "        train_data.Fare[i]=2\n",
    "    elif train_data.Fare[i]>= 300 and train_data.Fare[i]< 400:\n",
    "        train_data.Fare[i]=3    \n",
    "    elif train_data.Fare[i]>= 400 and train_data.Fare[i]< 515:\n",
    "        train_data.Fare[i]=4"
   ]
  },
  {
   "cell_type": "code",
   "execution_count": 31,
   "id": "c9cf3d45",
   "metadata": {
    "execution": {
     "iopub.execute_input": "2021-10-08T01:38:30.565875Z",
     "iopub.status.busy": "2021-10-08T01:38:30.564928Z",
     "iopub.status.idle": "2021-10-08T01:38:30.568945Z",
     "shell.execute_reply": "2021-10-08T01:38:30.569360Z",
     "shell.execute_reply.started": "2021-10-08T01:35:31.667075Z"
    },
    "papermill": {
     "duration": 0.054104,
     "end_time": "2021-10-08T01:38:30.569534",
     "exception": false,
     "start_time": "2021-10-08T01:38:30.515430",
     "status": "completed"
    },
    "tags": []
   },
   "outputs": [
    {
     "data": {
      "text/html": [
       "<div>\n",
       "<style scoped>\n",
       "    .dataframe tbody tr th:only-of-type {\n",
       "        vertical-align: middle;\n",
       "    }\n",
       "\n",
       "    .dataframe tbody tr th {\n",
       "        vertical-align: top;\n",
       "    }\n",
       "\n",
       "    .dataframe thead th {\n",
       "        text-align: right;\n",
       "    }\n",
       "</style>\n",
       "<table border=\"1\" class=\"dataframe\">\n",
       "  <thead>\n",
       "    <tr style=\"text-align: right;\">\n",
       "      <th></th>\n",
       "      <th>Survived</th>\n",
       "      <th>Pclass</th>\n",
       "      <th>Sex</th>\n",
       "      <th>Age</th>\n",
       "      <th>SibSp</th>\n",
       "      <th>Parch</th>\n",
       "      <th>Fare</th>\n",
       "      <th>Embarked</th>\n",
       "    </tr>\n",
       "  </thead>\n",
       "  <tbody>\n",
       "    <tr>\n",
       "      <th>0</th>\n",
       "      <td>0</td>\n",
       "      <td>3</td>\n",
       "      <td>male</td>\n",
       "      <td>1.0</td>\n",
       "      <td>1</td>\n",
       "      <td>0</td>\n",
       "      <td>0.0</td>\n",
       "      <td>S</td>\n",
       "    </tr>\n",
       "    <tr>\n",
       "      <th>1</th>\n",
       "      <td>1</td>\n",
       "      <td>1</td>\n",
       "      <td>female</td>\n",
       "      <td>1.0</td>\n",
       "      <td>1</td>\n",
       "      <td>0</td>\n",
       "      <td>0.0</td>\n",
       "      <td>C</td>\n",
       "    </tr>\n",
       "    <tr>\n",
       "      <th>2</th>\n",
       "      <td>1</td>\n",
       "      <td>3</td>\n",
       "      <td>female</td>\n",
       "      <td>1.0</td>\n",
       "      <td>0</td>\n",
       "      <td>0</td>\n",
       "      <td>0.0</td>\n",
       "      <td>S</td>\n",
       "    </tr>\n",
       "    <tr>\n",
       "      <th>3</th>\n",
       "      <td>1</td>\n",
       "      <td>1</td>\n",
       "      <td>female</td>\n",
       "      <td>1.0</td>\n",
       "      <td>1</td>\n",
       "      <td>0</td>\n",
       "      <td>0.0</td>\n",
       "      <td>S</td>\n",
       "    </tr>\n",
       "    <tr>\n",
       "      <th>4</th>\n",
       "      <td>0</td>\n",
       "      <td>3</td>\n",
       "      <td>male</td>\n",
       "      <td>1.0</td>\n",
       "      <td>0</td>\n",
       "      <td>0</td>\n",
       "      <td>0.0</td>\n",
       "      <td>S</td>\n",
       "    </tr>\n",
       "  </tbody>\n",
       "</table>\n",
       "</div>"
      ],
      "text/plain": [
       "   Survived  Pclass     Sex  Age  SibSp  Parch  Fare Embarked\n",
       "0         0       3    male  1.0      1      0   0.0        S\n",
       "1         1       1  female  1.0      1      0   0.0        C\n",
       "2         1       3  female  1.0      0      0   0.0        S\n",
       "3         1       1  female  1.0      1      0   0.0        S\n",
       "4         0       3    male  1.0      0      0   0.0        S"
      ]
     },
     "execution_count": 31,
     "metadata": {},
     "output_type": "execute_result"
    }
   ],
   "source": [
    "train_data.head()"
   ]
  },
  {
   "cell_type": "markdown",
   "id": "313b84f6",
   "metadata": {
    "papermill": {
     "duration": 0.038507,
     "end_time": "2021-10-08T01:38:30.646531",
     "exception": false,
     "start_time": "2021-10-08T01:38:30.608024",
     "status": "completed"
    },
    "tags": []
   },
   "source": [
    "***Converting to Ordinal Values***"
   ]
  },
  {
   "cell_type": "code",
   "execution_count": 32,
   "id": "6142dd17",
   "metadata": {
    "execution": {
     "iopub.execute_input": "2021-10-08T01:38:30.732385Z",
     "iopub.status.busy": "2021-10-08T01:38:30.731631Z",
     "iopub.status.idle": "2021-10-08T01:38:30.734434Z",
     "shell.execute_reply": "2021-10-08T01:38:30.733975Z",
     "shell.execute_reply.started": "2021-10-08T01:35:31.681252Z"
    },
    "papermill": {
     "duration": 0.049479,
     "end_time": "2021-10-08T01:38:30.734574",
     "exception": false,
     "start_time": "2021-10-08T01:38:30.685095",
     "status": "completed"
    },
    "tags": []
   },
   "outputs": [],
   "source": [
    "train_data['Sex'] = train_data['Sex'].map({'male':1, 'female':0})\n",
    "train_data['Embarked'] = train_data['Embarked'].map({'C':0, 'Q':1, 'S':2})"
   ]
  },
  {
   "cell_type": "code",
   "execution_count": 33,
   "id": "3fd5d1c5",
   "metadata": {
    "execution": {
     "iopub.execute_input": "2021-10-08T01:38:30.823380Z",
     "iopub.status.busy": "2021-10-08T01:38:30.822725Z",
     "iopub.status.idle": "2021-10-08T01:38:30.825584Z",
     "shell.execute_reply": "2021-10-08T01:38:30.825977Z",
     "shell.execute_reply.started": "2021-10-08T01:35:31.694445Z"
    },
    "papermill": {
     "duration": 0.053073,
     "end_time": "2021-10-08T01:38:30.826148",
     "exception": false,
     "start_time": "2021-10-08T01:38:30.773075",
     "status": "completed"
    },
    "tags": []
   },
   "outputs": [
    {
     "data": {
      "text/html": [
       "<div>\n",
       "<style scoped>\n",
       "    .dataframe tbody tr th:only-of-type {\n",
       "        vertical-align: middle;\n",
       "    }\n",
       "\n",
       "    .dataframe tbody tr th {\n",
       "        vertical-align: top;\n",
       "    }\n",
       "\n",
       "    .dataframe thead th {\n",
       "        text-align: right;\n",
       "    }\n",
       "</style>\n",
       "<table border=\"1\" class=\"dataframe\">\n",
       "  <thead>\n",
       "    <tr style=\"text-align: right;\">\n",
       "      <th></th>\n",
       "      <th>Survived</th>\n",
       "      <th>Pclass</th>\n",
       "      <th>Sex</th>\n",
       "      <th>Age</th>\n",
       "      <th>SibSp</th>\n",
       "      <th>Parch</th>\n",
       "      <th>Fare</th>\n",
       "      <th>Embarked</th>\n",
       "    </tr>\n",
       "  </thead>\n",
       "  <tbody>\n",
       "    <tr>\n",
       "      <th>0</th>\n",
       "      <td>0</td>\n",
       "      <td>3</td>\n",
       "      <td>1</td>\n",
       "      <td>1.0</td>\n",
       "      <td>1</td>\n",
       "      <td>0</td>\n",
       "      <td>0.0</td>\n",
       "      <td>2</td>\n",
       "    </tr>\n",
       "    <tr>\n",
       "      <th>1</th>\n",
       "      <td>1</td>\n",
       "      <td>1</td>\n",
       "      <td>0</td>\n",
       "      <td>1.0</td>\n",
       "      <td>1</td>\n",
       "      <td>0</td>\n",
       "      <td>0.0</td>\n",
       "      <td>0</td>\n",
       "    </tr>\n",
       "    <tr>\n",
       "      <th>2</th>\n",
       "      <td>1</td>\n",
       "      <td>3</td>\n",
       "      <td>0</td>\n",
       "      <td>1.0</td>\n",
       "      <td>0</td>\n",
       "      <td>0</td>\n",
       "      <td>0.0</td>\n",
       "      <td>2</td>\n",
       "    </tr>\n",
       "    <tr>\n",
       "      <th>3</th>\n",
       "      <td>1</td>\n",
       "      <td>1</td>\n",
       "      <td>0</td>\n",
       "      <td>1.0</td>\n",
       "      <td>1</td>\n",
       "      <td>0</td>\n",
       "      <td>0.0</td>\n",
       "      <td>2</td>\n",
       "    </tr>\n",
       "    <tr>\n",
       "      <th>4</th>\n",
       "      <td>0</td>\n",
       "      <td>3</td>\n",
       "      <td>1</td>\n",
       "      <td>1.0</td>\n",
       "      <td>0</td>\n",
       "      <td>0</td>\n",
       "      <td>0.0</td>\n",
       "      <td>2</td>\n",
       "    </tr>\n",
       "  </tbody>\n",
       "</table>\n",
       "</div>"
      ],
      "text/plain": [
       "   Survived  Pclass  Sex  Age  SibSp  Parch  Fare  Embarked\n",
       "0         0       3    1  1.0      1      0   0.0         2\n",
       "1         1       1    0  1.0      1      0   0.0         0\n",
       "2         1       3    0  1.0      0      0   0.0         2\n",
       "3         1       1    0  1.0      1      0   0.0         2\n",
       "4         0       3    1  1.0      0      0   0.0         2"
      ]
     },
     "execution_count": 33,
     "metadata": {},
     "output_type": "execute_result"
    }
   ],
   "source": [
    "train_data.head()"
   ]
  },
  {
   "cell_type": "code",
   "execution_count": 34,
   "id": "76204eef",
   "metadata": {
    "execution": {
     "iopub.execute_input": "2021-10-08T01:38:30.907264Z",
     "iopub.status.busy": "2021-10-08T01:38:30.906673Z",
     "iopub.status.idle": "2021-10-08T01:38:31.247996Z",
     "shell.execute_reply": "2021-10-08T01:38:31.248441Z",
     "shell.execute_reply.started": "2021-10-08T01:35:31.716878Z"
    },
    "papermill": {
     "duration": 0.383113,
     "end_time": "2021-10-08T01:38:31.248623",
     "exception": false,
     "start_time": "2021-10-08T01:38:30.865510",
     "status": "completed"
    },
    "tags": []
   },
   "outputs": [
    {
     "data": {
      "text/plain": [
       "0.7877094972067039"
      ]
     },
     "execution_count": 34,
     "metadata": {},
     "output_type": "execute_result"
    }
   ],
   "source": [
    "from sklearn.model_selection import train_test_split\n",
    "from sklearn.tree import DecisionTreeClassifier\n",
    "from sklearn import tree\n",
    "from sklearn.metrics import accuracy_score\n",
    "train_input, test_input, train_output, test_output = train_test_split(train_data.drop(['Survived'],axis=1), train_data['Survived'],test_size=0.2)\n",
    "dtm = DecisionTreeClassifier(criterion='gini',max_depth=4,random_state=0)\n",
    "dtm.fit(train_input,train_output)\n",
    "predictions = dtm.predict(test_input)\n",
    "accuracy=accuracy_score(test_output,predictions)\n",
    "accuracy"
   ]
  },
  {
   "cell_type": "markdown",
   "id": "ace1f2f4",
   "metadata": {
    "papermill": {
     "duration": 0.038732,
     "end_time": "2021-10-08T01:38:31.325845",
     "exception": false,
     "start_time": "2021-10-08T01:38:31.287113",
     "status": "completed"
    },
    "tags": []
   },
   "source": [
    "***1.3 Plot : Decision Tree Model***"
   ]
  },
  {
   "cell_type": "code",
   "execution_count": 35,
   "id": "8dffb8f9",
   "metadata": {
    "execution": {
     "iopub.execute_input": "2021-10-08T01:38:31.552219Z",
     "iopub.status.busy": "2021-10-08T01:38:31.547063Z",
     "iopub.status.idle": "2021-10-08T01:38:33.569497Z",
     "shell.execute_reply": "2021-10-08T01:38:33.569983Z",
     "shell.execute_reply.started": "2021-10-08T01:35:31.737806Z"
    },
    "papermill": {
     "duration": 2.205452,
     "end_time": "2021-10-08T01:38:33.570156",
     "exception": false,
     "start_time": "2021-10-08T01:38:31.364704",
     "status": "completed"
    },
    "tags": []
   },
   "outputs": [
    {
     "data": {
      "image/png": "[encoded data removed]",
      "text/plain": [
       "<Figure size 1800x1440 with 1 Axes>"
      ]
     },
     "metadata": {
      "needs_background": "light"
     },
     "output_type": "display_data"
    }
   ],
   "source": [
    "import matplotlib.pyplot as plt\n",
    "p_dtm = plt.figure(figsize=(25,20))\n",
    "_ = tree.plot_tree(dtm, filled=True)\n"
   ]
  },
  {
   "cell_type": "markdown",
   "id": "69245bda",
   "metadata": {
    "papermill": {
     "duration": 0.043157,
     "end_time": "2021-10-08T01:38:33.657021",
     "exception": false,
     "start_time": "2021-10-08T01:38:33.613864",
     "status": "completed"
    },
    "tags": []
   },
   "source": [
    "***1.4 Five-fold cross validation : Decision tree learning model***"
   ]
  },
  {
   "cell_type": "code",
   "execution_count": 36,
   "id": "49f2fd67",
   "metadata": {
    "execution": {
     "iopub.execute_input": "2021-10-08T01:38:33.747972Z",
     "iopub.status.busy": "2021-10-08T01:38:33.747248Z",
     "iopub.status.idle": "2021-10-08T01:38:33.780627Z",
     "shell.execute_reply": "2021-10-08T01:38:33.781111Z",
     "shell.execute_reply.started": "2021-10-08T01:35:33.894974Z"
    },
    "papermill": {
     "duration": 0.080743,
     "end_time": "2021-10-08T01:38:33.781296",
     "exception": false,
     "start_time": "2021-10-08T01:38:33.700553",
     "status": "completed"
    },
    "tags": []
   },
   "outputs": [
    {
     "data": {
      "text/plain": [
       "0.8103516202107752"
      ]
     },
     "execution_count": 36,
     "metadata": {},
     "output_type": "execute_result"
    }
   ],
   "source": [
    "from sklearn.model_selection import cross_val_score\n",
    "dt_cv = cross_val_score(dtm, train_input, train_output,cv=5)\n",
    "dt_cv.mean()"
   ]
  },
  {
   "cell_type": "markdown",
   "id": "6878717b",
   "metadata": {
    "papermill": {
     "duration": 0.044052,
     "end_time": "2021-10-08T01:38:33.869118",
     "exception": false,
     "start_time": "2021-10-08T01:38:33.825066",
     "status": "completed"
    },
    "tags": []
   },
   "source": [
    "***1.5 Five-fold cross validation : Random Forest learning model***"
   ]
  },
  {
   "cell_type": "code",
   "execution_count": 37,
   "id": "174a2b4a",
   "metadata": {
    "execution": {
     "iopub.execute_input": "2021-10-08T01:38:33.961244Z",
     "iopub.status.busy": "2021-10-08T01:38:33.960614Z",
     "iopub.status.idle": "2021-10-08T01:38:34.876433Z",
     "shell.execute_reply": "2021-10-08T01:38:34.876919Z",
     "shell.execute_reply.started": "2021-10-08T01:35:33.932709Z"
    },
    "papermill": {
     "duration": 0.963297,
     "end_time": "2021-10-08T01:38:34.877091",
     "exception": false,
     "start_time": "2021-10-08T01:38:33.913794",
     "status": "completed"
    },
    "tags": []
   },
   "outputs": [
    {
     "data": {
      "text/plain": [
       "0.8117108243868808"
      ]
     },
     "execution_count": 37,
     "metadata": {},
     "output_type": "execute_result"
    }
   ],
   "source": [
    "from sklearn.ensemble import RandomForestClassifier\n",
    "dtm = RandomForestClassifier(n_estimators=100,criterion='gini',max_depth=4, random_state=0)\n",
    "dtm.fit(train_input, train_output)\n",
    "dt_cv = cross_val_score(dtm, train_input, train_output,cv=5)\n",
    "dt_cv.mean()"
   ]
  },
  {
   "cell_type": "markdown",
   "id": "e0d166e4",
   "metadata": {
    "papermill": {
     "duration": 0.0435,
     "end_time": "2021-10-08T01:38:34.964228",
     "exception": false,
     "start_time": "2021-10-08T01:38:34.920728",
     "status": "completed"
    },
    "tags": []
   },
   "source": [
    "***1.1 Preprocessing the Titanic training data\n",
    "        a)Analysing correlation of features with Survival\n",
    "        b)Dropping features with lesser relevance to survival\n",
    "        c)Filling missing values\n",
    "        d)Converting to Ordinal Values***"
   ]
  },
  {
   "cell_type": "markdown",
   "id": "a887937d",
   "metadata": {
    "papermill": {
     "duration": 0.043431,
     "end_time": "2021-10-08T01:38:35.051749",
     "exception": false,
     "start_time": "2021-10-08T01:38:35.008318",
     "status": "completed"
    },
    "tags": []
   },
   "source": [
    "***1.2 The set of important features which are selected are Pclass, Sex, Age, Sibsp, Parch, Fare, Embarked for determining the Survival. As mentioned in the preprocessing step, we use correlation between the features and survival and select the features which highly impact on survival. We drop the features which are not relevant to determine the survival.***"
   ]
  },
  {
   "cell_type": "markdown",
   "id": "322f5295",
   "metadata": {
    "papermill": {
     "duration": 0.045065,
     "end_time": "2021-10-08T01:38:35.140248",
     "exception": false,
     "start_time": "2021-10-08T01:38:35.095183",
     "status": "completed"
    },
    "tags": []
   },
   "source": [
    "***1.6 Random Forest algorithm is better as compared to Decision Tree algorithm as they have classification accuracies of 81.18% and 80.34% respectively***"
   ]
  },
  {
   "cell_type": "markdown",
   "id": "845540a5",
   "metadata": {
    "papermill": {
     "duration": 0.043437,
     "end_time": "2021-10-08T01:38:35.227435",
     "exception": false,
     "start_time": "2021-10-08T01:38:35.183998",
     "status": "completed"
    },
    "tags": []
   },
   "source": [
    "***1.7 As we do more and more splits in decision trees, the accuracy keeps on increasing till we might need to deal with overfitting if we don't know when to stop. But incase of random forest, we build multiple decision trees and then take voting to determine the final tree which reduces the overfitting issue.***"
   ]
  },
  {
   "cell_type": "code",
   "execution_count": 38,
   "id": "2506a703",
   "metadata": {
    "execution": {
     "iopub.execute_input": "2021-10-08T01:38:35.321189Z",
     "iopub.status.busy": "2021-10-08T01:38:35.320510Z",
     "iopub.status.idle": "2021-10-08T01:38:35.443330Z",
     "shell.execute_reply": "2021-10-08T01:38:35.442722Z",
     "shell.execute_reply.started": "2021-10-08T01:35:35.141318Z"
    },
    "papermill": {
     "duration": 0.172246,
     "end_time": "2021-10-08T01:38:35.443494",
     "exception": false,
     "start_time": "2021-10-08T01:38:35.271248",
     "status": "completed"
    },
    "tags": []
   },
   "outputs": [
    {
     "data": {
      "text/plain": [
       "0.7892544075642668"
      ]
     },
     "execution_count": 38,
     "metadata": {},
     "output_type": "execute_result"
    }
   ],
   "source": [
    "from sklearn import svm\n",
    "SVM_L = svm.SVC(kernel='linear')\n",
    "dt_cv = cross_val_score(SVM_L, train_input, train_output,cv=5)\n",
    "dt_cv.mean()"
   ]
  },
  {
   "cell_type": "code",
   "execution_count": 39,
   "id": "be579c8d",
   "metadata": {
    "execution": {
     "iopub.execute_input": "2021-10-08T01:38:35.537754Z",
     "iopub.status.busy": "2021-10-08T01:38:35.537031Z",
     "iopub.status.idle": "2021-10-08T01:38:35.602163Z",
     "shell.execute_reply": "2021-10-08T01:38:35.602667Z",
     "shell.execute_reply.started": "2021-10-08T01:35:35.272045Z"
    },
    "papermill": {
     "duration": 0.115104,
     "end_time": "2021-10-08T01:38:35.602879",
     "exception": false,
     "start_time": "2021-10-08T01:38:35.487775",
     "status": "completed"
    },
    "tags": []
   },
   "outputs": [
    {
     "data": {
      "text/plain": [
       "0.7906234610459962"
      ]
     },
     "execution_count": 39,
     "metadata": {},
     "output_type": "execute_result"
    }
   ],
   "source": [
    "from sklearn import svm\n",
    "SVM_Q = svm.SVC(kernel='poly',degree=2)\n",
    "dt_cv = cross_val_score(SVM_Q, train_input, train_output,cv=5)\n",
    "dt_cv.mean()"
   ]
  },
  {
   "cell_type": "code",
   "execution_count": 40,
   "id": "ac3a63dc",
   "metadata": {
    "execution": {
     "iopub.execute_input": "2021-10-08T01:38:35.701510Z",
     "iopub.status.busy": "2021-10-08T01:38:35.700530Z",
     "iopub.status.idle": "2021-10-08T01:38:35.786765Z",
     "shell.execute_reply": "2021-10-08T01:38:35.786217Z",
     "shell.execute_reply.started": "2021-10-08T01:35:35.338879Z"
    },
    "papermill": {
     "duration": 0.138846,
     "end_time": "2021-10-08T01:38:35.786909",
     "exception": false,
     "start_time": "2021-10-08T01:38:35.648063",
     "status": "completed"
    },
    "tags": []
   },
   "outputs": [
    {
     "data": {
      "text/plain": [
       "0.8018812173741751"
      ]
     },
     "execution_count": 40,
     "metadata": {},
     "output_type": "execute_result"
    }
   ],
   "source": [
    "from sklearn import svm\n",
    "SVM_RBF = svm.SVC(kernel='rbf')\n",
    "dt_cv = cross_val_score(SVM_RBF, train_input, train_output,cv=5)\n",
    "dt_cv.mean()"
   ]
  }
 ],
 "metadata": {
  "kernelspec": {
   "display_name": "Python 3",
   "language": "python",
   "name": "python3"
  },
  "language_info": {
   "codemirror_mode": {
    "name": "ipython",
    "version": 3
   },
   "file_extension": ".py",
   "mimetype": "text/x-python",
   "name": "python",
   "nbconvert_exporter": "python",
   "pygments_lexer": "ipython3",
   "version": "3.7.10"
  },
  "papermill": {
   "default_parameters": {},
   "duration": 18.746961,
   "end_time": "2021-10-08T01:38:37.121746",
   "environment_variables": {},
   "exception": null,
   "input_path": "__notebook__.ipynb",
   "output_path": "__notebook__.ipynb",
   "parameters": {},
   "start_time": "2021-10-08T01:38:18.374785",
   "version": "2.3.3"
  }
 },
 "nbformat": 4,
 "nbformat_minor": 5
}
